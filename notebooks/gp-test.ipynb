{
 "cells": [
  {
   "cell_type": "code",
   "execution_count": 5,
   "metadata": {},
   "outputs": [],
   "source": [
    "import genepattern\n",
    "from genepattern import GPUIBuilder"
   ]
  },
  {
   "cell_type": "code",
   "execution_count": 4,
   "metadata": {
    "nbtools": {
     "description": "",
     "name": "add",
     "param_values": {
      "output_var": "",
      "x": "",
      "y": "2"
     },
     "show_code": true,
     "type": "uibuilder"
    }
   },
   "outputs": [
    {
     "data": {
      "application/vnd.jupyter.widget-view+json": {
       "model_id": "bdab3525d07b425bb975fdb89dac808a",
       "version_major": 2,
       "version_minor": 0
      },
      "text/plain": [
       "UIBuilder(function_import='add', name='add', params=[{'name': 'x', 'label': 'x', 'optional': False, 'default':…"
      ]
     },
     "metadata": {},
     "output_type": "display_data"
    }
   ],
   "source": [
    "@genepattern.build_ui\n",
    "def add(x, y=2): \n",
    "    return x + y"
   ]
  },
  {
   "cell_type": "code",
   "execution_count": 6,
   "metadata": {},
   "outputs": [],
   "source": [
    "def subtract(x, y): \n",
    "    return x - y"
   ]
  },
  {
   "cell_type": "code",
   "execution_count": 7,
   "metadata": {
    "nbtools": {
     "description": "",
     "name": "subtract",
     "param_values": {
      "x": "7",
      "y": "9"
     },
     "show_code": false,
     "type": "uibuilder"
    }
   },
   "outputs": [
    {
     "data": {
      "application/vnd.jupyter.widget-view+json": {
       "model_id": "e8240e06e1ab4f8488805b00e16d1767",
       "version_major": 2,
       "version_minor": 0
      },
      "text/plain": [
       "UIBuilder(function_import='subtract', name='subtract', params=[{'name': 'x', 'label': 'x', 'optional': False, …"
      ]
     },
     "metadata": {},
     "output_type": "display_data"
    }
   ],
   "source": [
    "GPUIBuilder(subtract)"
   ]
  },
  {
   "cell_type": "code",
   "execution_count": 15,
   "metadata": {},
   "outputs": [],
   "source": [
    "import sklearn.cluster\n",
    "from sklearn.cluster import KMeans"
   ]
  },
  {
   "cell_type": "code",
   "execution_count": 11,
   "metadata": {
    "nbtools": {
     "description": "K-Means clustering\n\nRead more in the :ref:`User Guide <k_means>`.\n\nParameters\n----------\n\nn_clusters : int, optional, default: 8\n    The number of clusters to form as well as the number of\n    centroids to generate.\n\ninit : {'k-means++', 'random' or an ndarray}\n    Method for initialization, defaults to 'k-means++':\n\n    'k-means++' : selects initial cluster centers for k-mean\n    clustering in a smart way to speed up convergence. See section\n    Notes in k_init for more details.\n\n    'random': choose k observations (rows) at random from data for\n    the initial centroids.\n\n    If an ndarray is passed, it should be of shape (n_clusters, n_features)\n    and gives the initial centers.\n\nn_init : int, default: 10\n    Number of time the k-means algorithm will be run with different\n    centroid seeds. The final results will be the best output of\n    n_init consecutive runs in terms of inertia.\n\nmax_iter : int, default: 300\n    Maximum number of iterations of the k-means algorithm for a\n    single run.\n\ntol : float, default: 1e-4\n    Relative tolerance with regards to inertia to declare convergence\n\nprecompute_distances : {'auto', True, False}\n    Precompute distances (faster but takes more memory).\n\n    'auto' : do not precompute distances if n_samples * n_clusters > 12\n    million. This corresponds to about 100MB overhead per job using\n    double precision.\n\n    True : always precompute distances\n\n    False : never precompute distances\n\nverbose : int, default 0\n    Verbosity mode.\n\nrandom_state : int, RandomState instance or None, optional, default: None\n    If int, random_state is the seed used by the random number generator;\n    If RandomState instance, random_state is the random number generator;\n    If None, the random number generator is the RandomState instance used\n    by `np.random`.\n\ncopy_x : boolean, default True\n    When pre-computing distances it is more numerically accurate to center\n    the data first.  If copy_x is True, then the original data is not\n    modified.  If False, the original data is modified, and put back before\n    the function returns, but small numerical differences may be introduced\n    by subtracting and then adding the data mean.\n\nn_jobs : int\n    The number of jobs to use for the computation. This works by computing\n    each of the n_init runs in parallel.\n\n    If -1 all CPUs are used. If 1 is given, no parallel computing code is\n    used at all, which is useful for debugging. For n_jobs below -1,\n    (n_cpus + 1 + n_jobs) are used. Thus for n_jobs = -2, all CPUs but one\n    are used.\n\nalgorithm : \"auto\", \"full\" or \"elkan\", default=\"auto\"\n    K-means algorithm to use. The classical EM-style algorithm is \"full\".\n    The \"elkan\" variation is more efficient by using the triangle\n    inequality, but currently doesn't support sparse data. \"auto\" chooses\n    \"elkan\" for dense data and \"full\" for sparse data.\n\nAttributes\n----------\ncluster_centers_ : array, [n_clusters, n_features]\n    Coordinates of cluster centers\n\nlabels_ :\n    Labels of each point\n\ninertia_ : float\n    Sum of squared distances of samples to their closest cluster center.\n\nExamples\n--------\n\n>>> from sklearn.cluster import KMeans\n>>> import numpy as np\n>>> X = np.array([[1, 2], [1, 4], [1, 0],\n...               [4, 2], [4, 4], [4, 0]])\n>>> kmeans = KMeans(n_clusters=2, random_state=0).fit(X)\n>>> kmeans.labels_\narray([0, 0, 0, 1, 1, 1], dtype=int32)\n>>> kmeans.predict([[0, 0], [4, 4]])\narray([0, 1], dtype=int32)\n>>> kmeans.cluster_centers_\narray([[ 1.,  2.],\n       [ 4.,  2.]])\n\nSee also\n--------\n\nMiniBatchKMeans\n    Alternative online implementation that does incremental updates\n    of the centers positions using mini-batches.\n    For large scale learning (say n_samples > 10k) MiniBatchKMeans is\n    probably much faster than the default batch implementation.\n\nNotes\n------\nThe k-means problem is solved using Lloyd's algorithm.\n\nThe average complexity is given by O(k n T), were n is the number of\nsamples and T is the number of iteration.\n\nThe worst case complexity is given by O(n^(k+2/p)) with\nn = n_samples, p = n_features. (D. Arthur and S. Vassilvitskii,\n'How slow is the k-means method?' SoCG2006)\n\nIn practice, the k-means algorithm is very fast (one of the fastest\nclustering algorithms available), but it falls in local minima. That's why\nit can be useful to restart it several times.",
     "name": "KMeans",
     "param_values": {
      "algorithm": "auto",
      "copy_x": "true",
      "init": "k-means++",
      "max_iter": "300",
      "n_clusters": "8",
      "n_init": "10",
      "n_jobs": "1",
      "precompute_distances": "auto",
      "random_state": "None",
      "tol": "0.0001",
      "verbose": "0"
     },
     "show_code": false,
     "type": "uibuilder"
    }
   },
   "outputs": [
    {
     "data": {
      "application/vnd.jupyter.widget-view+json": {
       "model_id": "8b4fd93a8f4e4e26aecd3903d112742b",
       "version_major": 2,
       "version_minor": 0
      },
      "text/plain": [
       "UIBuilder(description='K-Means clustering\\n\\nRead more in the :ref:`User Guide <k_means>`.\\n\\nParameters\\n----…"
      ]
     },
     "metadata": {},
     "output_type": "display_data"
    }
   ],
   "source": [
    "GPUIBuilder(sklearn.cluster.KMeans)"
   ]
  },
  {
   "cell_type": "code",
   "execution_count": 16,
   "metadata": {
    "nbtools": {
     "description": "K-Means clustering\n\nRead more in the :ref:`User Guide <k_means>`.\n\nParameters\n----------\n\nn_clusters : int, optional, default: 8\n    The number of clusters to form as well as the number of\n    centroids to generate.\n\ninit : {'k-means++', 'random' or an ndarray}\n    Method for initialization, defaults to 'k-means++':\n\n    'k-means++' : selects initial cluster centers for k-mean\n    clustering in a smart way to speed up convergence. See section\n    Notes in k_init for more details.\n\n    'random': choose k observations (rows) at random from data for\n    the initial centroids.\n\n    If an ndarray is passed, it should be of shape (n_clusters, n_features)\n    and gives the initial centers.\n\nn_init : int, default: 10\n    Number of time the k-means algorithm will be run with different\n    centroid seeds. The final results will be the best output of\n    n_init consecutive runs in terms of inertia.\n\nmax_iter : int, default: 300\n    Maximum number of iterations of the k-means algorithm for a\n    single run.\n\ntol : float, default: 1e-4\n    Relative tolerance with regards to inertia to declare convergence\n\nprecompute_distances : {'auto', True, False}\n    Precompute distances (faster but takes more memory).\n\n    'auto' : do not precompute distances if n_samples * n_clusters > 12\n    million. This corresponds to about 100MB overhead per job using\n    double precision.\n\n    True : always precompute distances\n\n    False : never precompute distances\n\nverbose : int, default 0\n    Verbosity mode.\n\nrandom_state : int, RandomState instance or None, optional, default: None\n    If int, random_state is the seed used by the random number generator;\n    If RandomState instance, random_state is the random number generator;\n    If None, the random number generator is the RandomState instance used\n    by `np.random`.\n\ncopy_x : boolean, default True\n    When pre-computing distances it is more numerically accurate to center\n    the data first.  If copy_x is True, then the original data is not\n    modified.  If False, the original data is modified, and put back before\n    the function returns, but small numerical differences may be introduced\n    by subtracting and then adding the data mean.\n\nn_jobs : int\n    The number of jobs to use for the computation. This works by computing\n    each of the n_init runs in parallel.\n\n    If -1 all CPUs are used. If 1 is given, no parallel computing code is\n    used at all, which is useful for debugging. For n_jobs below -1,\n    (n_cpus + 1 + n_jobs) are used. Thus for n_jobs = -2, all CPUs but one\n    are used.\n\nalgorithm : \"auto\", \"full\" or \"elkan\", default=\"auto\"\n    K-means algorithm to use. The classical EM-style algorithm is \"full\".\n    The \"elkan\" variation is more efficient by using the triangle\n    inequality, but currently doesn't support sparse data. \"auto\" chooses\n    \"elkan\" for dense data and \"full\" for sparse data.\n\nAttributes\n----------\ncluster_centers_ : array, [n_clusters, n_features]\n    Coordinates of cluster centers\n\nlabels_ :\n    Labels of each point\n\ninertia_ : float\n    Sum of squared distances of samples to their closest cluster center.\n\nExamples\n--------\n\n>>> from sklearn.cluster import KMeans\n>>> import numpy as np\n>>> X = np.array([[1, 2], [1, 4], [1, 0],\n...               [4, 2], [4, 4], [4, 0]])\n>>> kmeans = KMeans(n_clusters=2, random_state=0).fit(X)\n>>> kmeans.labels_\narray([0, 0, 0, 1, 1, 1], dtype=int32)\n>>> kmeans.predict([[0, 0], [4, 4]])\narray([0, 1], dtype=int32)\n>>> kmeans.cluster_centers_\narray([[ 1.,  2.],\n       [ 4.,  2.]])\n\nSee also\n--------\n\nMiniBatchKMeans\n    Alternative online implementation that does incremental updates\n    of the centers positions using mini-batches.\n    For large scale learning (say n_samples > 10k) MiniBatchKMeans is\n    probably much faster than the default batch implementation.\n\nNotes\n------\nThe k-means problem is solved using Lloyd's algorithm.\n\nThe average complexity is given by O(k n T), were n is the number of\nsamples and T is the number of iteration.\n\nThe worst case complexity is given by O(n^(k+2/p)) with\nn = n_samples, p = n_features. (D. Arthur and S. Vassilvitskii,\n'How slow is the k-means method?' SoCG2006)\n\nIn practice, the k-means algorithm is very fast (one of the fastest\nclustering algorithms available), but it falls in local minima. That's why\nit can be useful to restart it several times.",
     "name": "KMeans",
     "param_values": {
      "algorithm": "auto",
      "copy_x": "true",
      "init": "k-means++",
      "max_iter": "300",
      "n_clusters": "8",
      "n_init": "10",
      "n_jobs": "1",
      "output_var": "x",
      "precompute_distances": "auto",
      "random_state": "1234",
      "tol": "0.0001",
      "verbose": "0"
     },
     "show_code": false,
     "type": "uibuilder"
    }
   },
   "outputs": [
    {
     "data": {
      "application/vnd.jupyter.widget-view+json": {
       "model_id": "f95bb37eac0645e7b84d15495988f0ee",
       "version_major": 2,
       "version_minor": 0
      },
      "text/plain": [
       "UIBuilder(description='K-Means clustering\\n\\nRead more in the :ref:`User Guide <k_means>`.\\n\\nParameters\\n----…"
      ]
     },
     "metadata": {},
     "output_type": "display_data"
    }
   ],
   "source": [
    "genepattern.GPUIBuilder(sklearn.cluster.KMeans, parameters={\n",
    "    \"init\": { \"hide\": True },\n",
    "    \"verbose\": { \"hide\": True },\n",
    "    \"random_state\": { \"hide\": True, \"default\": 1234 },\n",
    "    \"copy_x\": { \"hide\": True }\n",
    "})"
   ]
  },
  {
   "cell_type": "code",
   "execution_count": 19,
   "metadata": {},
   "outputs": [
    {
     "data": {
      "text/plain": [
       "KMeans(algorithm='auto', copy_x=True, init='k-means++', max_iter=300,\n",
       "    n_clusters=8, n_init=10, n_jobs=1, precompute_distances='auto',\n",
       "    random_state=1234, tol=0.0001, verbose=0)"
      ]
     },
     "execution_count": 19,
     "metadata": {},
     "output_type": "execute_result"
    }
   ],
   "source": [
    "x"
   ]
  },
  {
   "cell_type": "code",
   "execution_count": 20,
   "metadata": {},
   "outputs": [],
   "source": [
    "from pandas import read_csv"
   ]
  },
  {
   "cell_type": "code",
   "execution_count": 21,
   "metadata": {
    "nbtools": {
     "description": "Read CSV (comma-separated) file into DataFrame\n\nAlso supports optionally iterating or breaking of the file\ninto chunks.\n\nAdditional help can be found in the `online docs for IO Tools\n<http://pandas.pydata.org/pandas-docs/stable/io.html>`_.\n\nParameters\n----------\nfilepath_or_buffer : str, pathlib.Path, py._path.local.LocalPath or any \\\nobject with a read() method (such as a file handle or StringIO)\n    The string could be a URL. Valid URL schemes include http, ftp, s3, and\n    file. For file URLs, a host is expected. For instance, a local file could\n    be file://localhost/path/to/table.csv\nsep : str, default ','\n    Delimiter to use. If sep is None, the C engine cannot automatically detect\n    the separator, but the Python parsing engine can, meaning the latter will\n    be used and automatically detect the separator by Python's builtin sniffer\n    tool, ``csv.Sniffer``. In addition, separators longer than 1 character and\n    different from ``'\\s+'`` will be interpreted as regular expressions and\n    will also force the use of the Python parsing engine. Note that regex\n    delimiters are prone to ignoring quoted data. Regex example: ``'\\r\\t'``\ndelimiter : str, default ``None``\n    Alternative argument name for sep.\ndelim_whitespace : boolean, default False\n    Specifies whether or not whitespace (e.g. ``' '`` or ``'\\t'``) will be\n    used as the sep. Equivalent to setting ``sep='\\s+'``. If this option\n    is set to True, nothing should be passed in for the ``delimiter``\n    parameter.\n\n    .. versionadded:: 0.18.1 support for the Python parser.\n\nheader : int or list of ints, default 'infer'\n    Row number(s) to use as the column names, and the start of the\n    data.  Default behavior is to infer the column names: if no names\n    are passed the behavior is identical to ``header=0`` and column\n    names are inferred from the first line of the file, if column\n    names are passed explicitly then the behavior is identical to\n    ``header=None``. Explicitly pass ``header=0`` to be able to\n    replace existing names. The header can be a list of integers that\n    specify row locations for a multi-index on the columns\n    e.g. [0,1,3]. Intervening rows that are not specified will be\n    skipped (e.g. 2 in this example is skipped). Note that this\n    parameter ignores commented lines and empty lines if\n    ``skip_blank_lines=True``, so header=0 denotes the first line of\n    data rather than the first line of the file.\nnames : array-like, default None\n    List of column names to use. If file contains no header row, then you\n    should explicitly pass header=None. Duplicates in this list will cause\n    a ``UserWarning`` to be issued.\nindex_col : int or sequence or False, default None\n    Column to use as the row labels of the DataFrame. If a sequence is given, a\n    MultiIndex is used. If you have a malformed file with delimiters at the end\n    of each line, you might consider index_col=False to force pandas to _not_\n    use the first column as the index (row names)\nusecols : list-like or callable, default None\n    Return a subset of the columns. If list-like, all elements must either\n    be positional (i.e. integer indices into the document columns) or strings\n    that correspond to column names provided either by the user in `names` or\n    inferred from the document header row(s). For example, a valid list-like\n    `usecols` parameter would be [0, 1, 2] or ['foo', 'bar', 'baz']. Element\n    order is ignored, so ``usecols=[0, 1]`` is the same as ``[1, 0]``.\n    To instantiate a DataFrame from ``data`` with element order preserved use\n    ``pd.read_csv(data, usecols=['foo', 'bar'])[['foo', 'bar']]`` for columns\n    in ``['foo', 'bar']`` order or\n    ``pd.read_csv(data, usecols=['foo', 'bar'])[['bar', 'foo']]``\n    for ``['bar', 'foo']`` order.\n\n    If callable, the callable function will be evaluated against the column\n    names, returning names where the callable function evaluates to True. An\n    example of a valid callable argument would be ``lambda x: x.upper() in\n    ['AAA', 'BBB', 'DDD']``. Using this parameter results in much faster\n    parsing time and lower memory usage.\nsqueeze : boolean, default False\n    If the parsed data only contains one column then return a Series\nprefix : str, default None\n    Prefix to add to column numbers when no header, e.g. 'X' for X0, X1, ...\nmangle_dupe_cols : boolean, default True\n    Duplicate columns will be specified as 'X', 'X.1', ...'X.N', rather than\n    'X'...'X'. Passing in False will cause data to be overwritten if there\n    are duplicate names in the columns.\ndtype : Type name or dict of column -> type, default None\n    Data type for data or columns. E.g. {'a': np.float64, 'b': np.int32}\n    Use `str` or `object` together with suitable `na_values` settings\n    to preserve and not interpret dtype.\n    If converters are specified, they will be applied INSTEAD\n    of dtype conversion.\nengine : {'c', 'python'}, optional\n    Parser engine to use. The C engine is faster while the python engine is\n    currently more feature-complete.\nconverters : dict, default None\n    Dict of functions for converting values in certain columns. Keys can either\n    be integers or column labels\ntrue_values : list, default None\n    Values to consider as True\nfalse_values : list, default None\n    Values to consider as False\nskipinitialspace : boolean, default False\n    Skip spaces after delimiter.\nskiprows : list-like or integer or callable, default None\n    Line numbers to skip (0-indexed) or number of lines to skip (int)\n    at the start of the file.\n\n    If callable, the callable function will be evaluated against the row\n    indices, returning True if the row should be skipped and False otherwise.\n    An example of a valid callable argument would be ``lambda x: x in [0, 2]``.\nskipfooter : int, default 0\n    Number of lines at bottom of file to skip (Unsupported with engine='c')\nnrows : int, default None\n    Number of rows of file to read. Useful for reading pieces of large files\nna_values : scalar, str, list-like, or dict, default None\n    Additional strings to recognize as NA/NaN. If dict passed, specific\n    per-column NA values.  By default the following values are interpreted as\n    NaN: '', '#N/A', '#N/A N/A', '#NA', '-1.#IND', '-1.#QNAN', '-NaN', '-nan',\n    '1.#IND', '1.#QNAN', 'N/A', 'NA', 'NULL', 'NaN', 'n/a', 'nan',\n    'null'.\nkeep_default_na : bool, default True\n    Whether or not to include the default NaN values when parsing the data.\n    Depending on whether `na_values` is passed in, the behavior is as follows:\n\n    * If `keep_default_na` is True, and `na_values` are specified, `na_values`\n      is appended to the default NaN values used for parsing.\n    * If `keep_default_na` is True, and `na_values` are not specified, only\n      the default NaN values are used for parsing.\n    * If `keep_default_na` is False, and `na_values` are specified, only\n      the NaN values specified `na_values` are used for parsing.\n    * If `keep_default_na` is False, and `na_values` are not specified, no\n      strings will be parsed as NaN.\n\n    Note that if `na_filter` is passed in as False, the `keep_default_na` and\n    `na_values` parameters will be ignored.\nna_filter : boolean, default True\n    Detect missing value markers (empty strings and the value of na_values). In\n    data without any NAs, passing na_filter=False can improve the performance\n    of reading a large file\nverbose : boolean, default False\n    Indicate number of NA values placed in non-numeric columns\nskip_blank_lines : boolean, default True\n    If True, skip over blank lines rather than interpreting as NaN values\nparse_dates : boolean or list of ints or names or list of lists or dict, default False\n\n    * boolean. If True -> try parsing the index.\n    * list of ints or names. e.g. If [1, 2, 3] -> try parsing columns 1, 2, 3\n      each as a separate date column.\n    * list of lists. e.g.  If [[1, 3]] -> combine columns 1 and 3 and parse as\n      a single date column.\n    * dict, e.g. {'foo' : [1, 3]} -> parse columns 1, 3 as date and call result\n      'foo'\n\n    If a column or index contains an unparseable date, the entire column or\n    index will be returned unaltered as an object data type. For non-standard\n    datetime parsing, use ``pd.to_datetime`` after ``pd.read_csv``\n\n    Note: A fast-path exists for iso8601-formatted dates.\ninfer_datetime_format : boolean, default False\n    If True and `parse_dates` is enabled, pandas will attempt to infer the\n    format of the datetime strings in the columns, and if it can be inferred,\n    switch to a faster method of parsing them. In some cases this can increase\n    the parsing speed by 5-10x.\nkeep_date_col : boolean, default False\n    If True and `parse_dates` specifies combining multiple columns then\n    keep the original columns.\ndate_parser : function, default None\n    Function to use for converting a sequence of string columns to an array of\n    datetime instances. The default uses ``dateutil.parser.parser`` to do the\n    conversion. Pandas will try to call `date_parser` in three different ways,\n    advancing to the next if an exception occurs: 1) Pass one or more arrays\n    (as defined by `parse_dates`) as arguments; 2) concatenate (row-wise) the\n    string values from the columns defined by `parse_dates` into a single array\n    and pass that; and 3) call `date_parser` once for each row using one or\n    more strings (corresponding to the columns defined by `parse_dates`) as\n    arguments.\ndayfirst : boolean, default False\n    DD/MM format dates, international and European format\niterator : boolean, default False\n    Return TextFileReader object for iteration or getting chunks with\n    ``get_chunk()``.\nchunksize : int, default None\n    Return TextFileReader object for iteration.\n    See the `IO Tools docs\n    <http://pandas.pydata.org/pandas-docs/stable/io.html#io-chunking>`_\n    for more information on ``iterator`` and ``chunksize``.\ncompression : {'infer', 'gzip', 'bz2', 'zip', 'xz', None}, default 'infer'\n    For on-the-fly decompression of on-disk data. If 'infer' and\n    `filepath_or_buffer` is path-like, then detect compression from the\n    following extensions: '.gz', '.bz2', '.zip', or '.xz' (otherwise no\n    decompression). If using 'zip', the ZIP file must contain only one data\n    file to be read in. Set to None for no decompression.\n\n    .. versionadded:: 0.18.1 support for 'zip' and 'xz' compression.\n\nthousands : str, default None\n    Thousands separator\ndecimal : str, default '.'\n    Character to recognize as decimal point (e.g. use ',' for European data).\nfloat_precision : string, default None\n    Specifies which converter the C engine should use for floating-point\n    values. The options are `None` for the ordinary converter,\n    `high` for the high-precision converter, and `round_trip` for the\n    round-trip converter.\nlineterminator : str (length 1), default None\n    Character to break file into lines. Only valid with C parser.\nquotechar : str (length 1), optional\n    The character used to denote the start and end of a quoted item. Quoted\n    items can include the delimiter and it will be ignored.\nquoting : int or csv.QUOTE_* instance, default 0\n    Control field quoting behavior per ``csv.QUOTE_*`` constants. Use one of\n    QUOTE_MINIMAL (0), QUOTE_ALL (1), QUOTE_NONNUMERIC (2) or QUOTE_NONE (3).\ndoublequote : boolean, default ``True``\n   When quotechar is specified and quoting is not ``QUOTE_NONE``, indicate\n   whether or not to interpret two consecutive quotechar elements INSIDE a\n   field as a single ``quotechar`` element.\nescapechar : str (length 1), default None\n    One-character string used to escape delimiter when quoting is QUOTE_NONE.\ncomment : str, default None\n    Indicates remainder of line should not be parsed. If found at the beginning\n    of a line, the line will be ignored altogether. This parameter must be a\n    single character. Like empty lines (as long as ``skip_blank_lines=True``),\n    fully commented lines are ignored by the parameter `header` but not by\n    `skiprows`. For example, if ``comment='#'``, parsing\n    ``#empty\\na,b,c\\n1,2,3`` with ``header=0`` will result in 'a,b,c' being\n    treated as the header.\nencoding : str, default None\n    Encoding to use for UTF when reading/writing (ex. 'utf-8'). `List of Python\n    standard encodings\n    <https://docs.python.org/3/library/codecs.html#standard-encodings>`_\ndialect : str or csv.Dialect instance, default None\n    If provided, this parameter will override values (default or not) for the\n    following parameters: `delimiter`, `doublequote`, `escapechar`,\n    `skipinitialspace`, `quotechar`, and `quoting`. If it is necessary to\n    override values, a ParserWarning will be issued. See csv.Dialect\n    documentation for more details.\ntupleize_cols : boolean, default False\n    .. deprecated:: 0.21.0\n       This argument will be removed and will always convert to MultiIndex\n\n    Leave a list of tuples on columns as is (default is to convert to\n    a MultiIndex on the columns)\nerror_bad_lines : boolean, default True\n    Lines with too many fields (e.g. a csv line with too many commas) will by\n    default cause an exception to be raised, and no DataFrame will be returned.\n    If False, then these \"bad lines\" will dropped from the DataFrame that is\n    returned.\nwarn_bad_lines : boolean, default True\n    If error_bad_lines is False, and warn_bad_lines is True, a warning for each\n    \"bad line\" will be output.\nlow_memory : boolean, default True\n    Internally process the file in chunks, resulting in lower memory use\n    while parsing, but possibly mixed type inference.  To ensure no mixed\n    types either set False, or specify the type with the `dtype` parameter.\n    Note that the entire file is read into a single DataFrame regardless,\n    use the `chunksize` or `iterator` parameter to return the data in chunks.\n    (Only valid with C parser)\nmemory_map : boolean, default False\n    If a filepath is provided for `filepath_or_buffer`, map the file object\n    directly onto memory and access the data directly from there. Using this\n    option can improve performance because there is no longer any I/O overhead.\n\nReturns\n-------\nresult : DataFrame or TextParser",
     "name": "_make_parser_function.<locals>.parser_f",
     "param_values": {
      "chunksize": "None",
      "comment": "None",
      "compression": "infer",
      "converters": "None",
      "date_parser": "None",
      "dayfirst": "false",
      "decimal": "b'.'",
      "delim_whitespace": "false",
      "delimiter": "None",
      "dialect": "None",
      "doublequote": "true",
      "dtype": "None",
      "encoding": "None",
      "engine": "None",
      "error_bad_lines": "true",
      "escapechar": "None",
      "false_values": "None",
      "filepath_or_buffer": "",
      "float_precision": "None",
      "header": "infer",
      "index_col": "None",
      "infer_datetime_format": "false",
      "iterator": "false",
      "keep_date_col": "false",
      "keep_default_na": "true",
      "lineterminator": "None",
      "low_memory": "true",
      "mangle_dupe_cols": "true",
      "memory_map": "false",
      "na_filter": "true",
      "na_values": "None",
      "names": "None",
      "nrows": "None",
      "parse_dates": "false",
      "prefix": "None",
      "quotechar": "\"",
      "quoting": 0,
      "sep": ",",
      "skip_blank_lines": "true",
      "skipfooter": 0,
      "skipinitialspace": "false",
      "skiprows": "None",
      "squeeze": "false",
      "thousands": "None",
      "true_values": "None",
      "tupleize_cols": "None",
      "usecols": "None",
      "verbose": "false",
      "warn_bad_lines": "true"
     },
     "show_code": false,
     "type": "uibuilder"
    }
   },
   "outputs": [
    {
     "data": {
      "application/vnd.jupyter.widget-view+json": {
       "model_id": "e6888b8642c24ead92f7588d82036b59",
       "version_major": 2,
       "version_minor": 0
      },
      "text/plain": [
       "UIBuilder(description='Read CSV (comma-separated) file into DataFrame\\n\\nAlso supports optionally iterating or…"
      ]
     },
     "metadata": {},
     "output_type": "display_data"
    }
   ],
   "source": [
    "GPUIBuilder(read_csv)"
   ]
  },
  {
   "cell_type": "code",
   "execution_count": null,
   "metadata": {},
   "outputs": [],
   "source": []
  }
 ],
 "metadata": {
  "kernelspec": {
   "display_name": "Python (nbgwas)",
   "language": "python",
   "name": "nbgwas2"
  },
  "language_info": {
   "codemirror_mode": {
    "name": "ipython",
    "version": 3
   },
   "file_extension": ".py",
   "mimetype": "text/x-python",
   "name": "python",
   "nbconvert_exporter": "python",
   "pygments_lexer": "ipython3",
   "version": "3.6.6"
  }
 },
 "nbformat": 4,
 "nbformat_minor": 2
}
