{
 "cells": [
  {
   "cell_type": "code",
   "execution_count": 1,
   "metadata": {},
   "outputs": [],
   "source": [
    "%load_ext autoreload\n",
    "%autoreload 2"
   ]
  },
  {
   "cell_type": "code",
   "execution_count": 2,
   "metadata": {},
   "outputs": [],
   "source": [
    "import nbgwas\n",
    "from nbgwas.nbgwas import Nbgwas"
   ]
  },
  {
   "cell_type": "code",
   "execution_count": 3,
   "metadata": {},
   "outputs": [
    {
     "data": {
      "text/plain": [
       "'0.2.1'"
      ]
     },
     "execution_count": 3,
     "metadata": {},
     "output_type": "execute_result"
    }
   ],
   "source": [
    "nbgwas.__version__"
   ]
  },
  {
   "cell_type": "code",
   "execution_count": 4,
   "metadata": {},
   "outputs": [
    {
     "data": {
      "text/plain": [
       "<networkx.classes.graph.Graph at 0x7f781a6b4ba8>"
      ]
     },
     "execution_count": 4,
     "metadata": {},
     "output_type": "execute_result"
    }
   ],
   "source": [
    "pcnet = Nbgwas._load_pcnet()\n",
    "pcnet"
   ]
  },
  {
   "cell_type": "markdown",
   "metadata": {},
   "source": [
    "# Gene level summary"
   ]
  },
  {
   "cell_type": "code",
   "execution_count": 5,
   "metadata": {},
   "outputs": [],
   "source": [
    "gene_level_summary_file = '../data/scz/gene_level_summary_stats_pmid_25056061.txt'"
   ]
  },
  {
   "cell_type": "code",
   "execution_count": 6,
   "metadata": {},
   "outputs": [],
   "source": [
    "g = Nbgwas(gene_level_summary=gene_level_summary_file)"
   ]
  },
  {
   "cell_type": "code",
   "execution_count": 7,
   "metadata": {},
   "outputs": [
    {
     "name": "stderr",
     "output_type": "stream",
     "text": [
      "/cellar/users/samsonfong/bin/anaconda3/envs/nbgwas2/lib/python3.6/site-packages/pandas-0.23.4-py3.6-linux-x86_64.egg/pandas/core/indexing.py:1027: FutureWarning: \n",
      "Passing list-likes to .loc or [] with any missing label will raise\n",
      "KeyError in the future, you can use .reindex() as an alternative.\n",
      "\n",
      "See the documentation here:\n",
      "https://pandas.pydata.org/pandas-docs/stable/indexing.html#deprecate-loc-reindex-listlike\n",
      "  return getattr(section, self.name)[new_key]\n"
     ]
    },
    {
     "data": {
      "text/plain": [
       "<nbgwas.nbgwas.Nbgwas at 0x7f781b220438>"
      ]
     },
     "execution_count": 7,
     "metadata": {},
     "output_type": "execute_result"
    }
   ],
   "source": [
    "g.diffuse(kernel='/cellar/users/decarlin/Data/kernels/PCNet_kernel.hdf')"
   ]
  },
  {
   "cell_type": "code",
   "execution_count": 8,
   "metadata": {},
   "outputs": [
    {
     "data": {
      "text/html": [
       "<div>\n",
       "<style scoped>\n",
       "    .dataframe tbody tr th:only-of-type {\n",
       "        vertical-align: middle;\n",
       "    }\n",
       "\n",
       "    .dataframe tbody tr th {\n",
       "        vertical-align: top;\n",
       "    }\n",
       "\n",
       "    .dataframe thead th {\n",
       "        text-align: right;\n",
       "    }\n",
       "</style>\n",
       "<table border=\"1\" class=\"dataframe\">\n",
       "  <thead>\n",
       "    <tr style=\"text-align: right;\">\n",
       "      <th></th>\n",
       "      <th>prop</th>\n",
       "    </tr>\n",
       "    <tr>\n",
       "      <th>Gene</th>\n",
       "      <th></th>\n",
       "    </tr>\n",
       "  </thead>\n",
       "  <tbody>\n",
       "    <tr>\n",
       "      <th>TCF4</th>\n",
       "      <td>0.479835</td>\n",
       "    </tr>\n",
       "    <tr>\n",
       "      <th>HIST1H4C</th>\n",
       "      <td>0.467925</td>\n",
       "    </tr>\n",
       "    <tr>\n",
       "      <th>HIST1H2BC</th>\n",
       "      <td>0.467749</td>\n",
       "    </tr>\n",
       "    <tr>\n",
       "      <th>HIST1H2BN</th>\n",
       "      <td>0.466517</td>\n",
       "    </tr>\n",
       "    <tr>\n",
       "      <th>HIST1H4J</th>\n",
       "      <td>0.466316</td>\n",
       "    </tr>\n",
       "  </tbody>\n",
       "</table>\n",
       "</div>"
      ],
      "text/plain": [
       "               prop\n",
       "Gene               \n",
       "TCF4       0.479835\n",
       "HIST1H4C   0.467925\n",
       "HIST1H2BC  0.467749\n",
       "HIST1H2BN  0.466517\n",
       "HIST1H4J   0.466316"
      ]
     },
     "execution_count": 8,
     "metadata": {},
     "output_type": "execute_result"
    }
   ],
   "source": [
    "g.boosted_pvalues.sort_values('prop', ascending=False).head()"
   ]
  },
  {
   "cell_type": "code",
   "execution_count": 9,
   "metadata": {},
   "outputs": [
    {
     "data": {
      "text/plain": [
       "<nbgwas.nbgwas.Nbgwas at 0x7f781b220438>"
      ]
     },
     "execution_count": 9,
     "metadata": {},
     "output_type": "execute_result"
    }
   ],
   "source": [
    "g.heat_diffusion()"
   ]
  },
  {
   "cell_type": "code",
   "execution_count": 10,
   "metadata": {},
   "outputs": [
    {
     "data": {
      "text/html": [
       "<div>\n",
       "<style scoped>\n",
       "    .dataframe tbody tr th:only-of-type {\n",
       "        vertical-align: middle;\n",
       "    }\n",
       "\n",
       "    .dataframe tbody tr th {\n",
       "        vertical-align: top;\n",
       "    }\n",
       "\n",
       "    .dataframe thead th {\n",
       "        text-align: right;\n",
       "    }\n",
       "</style>\n",
       "<table border=\"1\" class=\"dataframe\">\n",
       "  <thead>\n",
       "    <tr style=\"text-align: right;\">\n",
       "      <th></th>\n",
       "      <th>prop</th>\n",
       "    </tr>\n",
       "    <tr>\n",
       "      <th>Gene</th>\n",
       "      <th></th>\n",
       "    </tr>\n",
       "  </thead>\n",
       "  <tbody>\n",
       "    <tr>\n",
       "      <th>LY6G6F</th>\n",
       "      <td>0.744055</td>\n",
       "    </tr>\n",
       "    <tr>\n",
       "      <th>MUSTN1</th>\n",
       "      <td>0.742368</td>\n",
       "    </tr>\n",
       "    <tr>\n",
       "      <th>AGBL3</th>\n",
       "      <td>0.616114</td>\n",
       "    </tr>\n",
       "    <tr>\n",
       "      <th>PATE1</th>\n",
       "      <td>0.501521</td>\n",
       "    </tr>\n",
       "    <tr>\n",
       "      <th>ZSCAN23</th>\n",
       "      <td>0.080481</td>\n",
       "    </tr>\n",
       "  </tbody>\n",
       "</table>\n",
       "</div>"
      ],
      "text/plain": [
       "             prop\n",
       "Gene             \n",
       "LY6G6F   0.744055\n",
       "MUSTN1   0.742368\n",
       "AGBL3    0.616114\n",
       "PATE1    0.501521\n",
       "ZSCAN23  0.080481"
      ]
     },
     "execution_count": 10,
     "metadata": {},
     "output_type": "execute_result"
    }
   ],
   "source": [
    "g.boosted_pvalues.sort_values('prop', ascending=False).head()"
   ]
  },
  {
   "cell_type": "markdown",
   "metadata": {},
   "source": [
    "# SNP level summary"
   ]
  },
  {
   "cell_type": "code",
   "execution_count": 11,
   "metadata": {},
   "outputs": [],
   "source": [
    "snp_level_summary_file = '../data/scz/snp_level_summary_stats_pmid_25056061.txt'\n",
    "protein_coding_file = '../data/glist-hg18_proteinCoding.txt'"
   ]
  },
  {
   "cell_type": "code",
   "execution_count": 12,
   "metadata": {},
   "outputs": [],
   "source": [
    "g = Nbgwas(snp_level_summary = snp_level_summary_file, \n",
    "           protein_coding_table = protein_coding_file,\n",
    "           network = pcnet)"
   ]
  },
  {
   "cell_type": "code",
   "execution_count": 13,
   "metadata": {},
   "outputs": [
    {
     "name": "stderr",
     "output_type": "stream",
     "text": [
      "/cellar/users/samsonfong/Ongoing/nbgwas_package/nbgwas/nbgwas.py:134: FutureWarning: Sorting because non-concatenation axis is not aligned. A future version\n",
      "of pandas will change to not sort by default.\n",
      "\n",
      "To accept the future behavior, pass 'sort=False'.\n",
      "\n",
      "To retain the current behavior and silence the warning, pass 'sort=True'.\n",
      "\n",
      "  assigned_df = pd.concat([pc, assigned_df], axis=1)\n"
     ]
    },
    {
     "data": {
      "text/plain": [
       "<nbgwas.nbgwas.Nbgwas at 0x7f781b0c41d0>"
      ]
     },
     "execution_count": 13,
     "metadata": {},
     "output_type": "execute_result"
    }
   ],
   "source": [
    "g.assign_pvalues(window_size=10000)"
   ]
  },
  {
   "cell_type": "code",
   "execution_count": 14,
   "metadata": {},
   "outputs": [
    {
     "data": {
      "text/html": [
       "<div>\n",
       "<style scoped>\n",
       "    .dataframe tbody tr th:only-of-type {\n",
       "        vertical-align: middle;\n",
       "    }\n",
       "\n",
       "    .dataframe tbody tr th {\n",
       "        vertical-align: top;\n",
       "    }\n",
       "\n",
       "    .dataframe thead th {\n",
       "        text-align: right;\n",
       "    }\n",
       "</style>\n",
       "<table border=\"1\" class=\"dataframe\">\n",
       "  <thead>\n",
       "    <tr style=\"text-align: right;\">\n",
       "      <th></th>\n",
       "      <th>Gene</th>\n",
       "      <th>Chromosome</th>\n",
       "      <th>Start</th>\n",
       "      <th>End</th>\n",
       "      <th>nSNPS</th>\n",
       "      <th>TopSNP P-Value</th>\n",
       "      <th>TopSNP Position</th>\n",
       "    </tr>\n",
       "  </thead>\n",
       "  <tbody>\n",
       "    <tr>\n",
       "      <th>0</th>\n",
       "      <td>A1BG</td>\n",
       "      <td>19</td>\n",
       "      <td>63551643</td>\n",
       "      <td>63565932</td>\n",
       "      <td>12.0</td>\n",
       "      <td>0.117584</td>\n",
       "      <td>63556880.0</td>\n",
       "    </tr>\n",
       "    <tr>\n",
       "      <th>1</th>\n",
       "      <td>A1CF</td>\n",
       "      <td>10</td>\n",
       "      <td>52271589</td>\n",
       "      <td>52315441</td>\n",
       "      <td>21.0</td>\n",
       "      <td>0.247487</td>\n",
       "      <td>52290471.0</td>\n",
       "    </tr>\n",
       "    <tr>\n",
       "      <th>2</th>\n",
       "      <td>A2M</td>\n",
       "      <td>12</td>\n",
       "      <td>9111570</td>\n",
       "      <td>9159825</td>\n",
       "      <td>33.0</td>\n",
       "      <td>0.118248</td>\n",
       "      <td>9141868.0</td>\n",
       "    </tr>\n",
       "    <tr>\n",
       "      <th>3</th>\n",
       "      <td>A2ML1</td>\n",
       "      <td>12</td>\n",
       "      <td>8911704</td>\n",
       "      <td>8930864</td>\n",
       "      <td>31.0</td>\n",
       "      <td>0.173438</td>\n",
       "      <td>8920953.0</td>\n",
       "    </tr>\n",
       "    <tr>\n",
       "      <th>4</th>\n",
       "      <td>A3GALT2</td>\n",
       "      <td>1</td>\n",
       "      <td>33544953</td>\n",
       "      <td>33559286</td>\n",
       "      <td>17.0</td>\n",
       "      <td>0.100226</td>\n",
       "      <td>33551630.0</td>\n",
       "    </tr>\n",
       "  </tbody>\n",
       "</table>\n",
       "</div>"
      ],
      "text/plain": [
       "      Gene Chromosome     Start       End  nSNPS  TopSNP P-Value  \\\n",
       "0     A1BG         19  63551643  63565932   12.0        0.117584   \n",
       "1     A1CF         10  52271589  52315441   21.0        0.247487   \n",
       "2      A2M         12   9111570   9159825   33.0        0.118248   \n",
       "3    A2ML1         12   8911704   8930864   31.0        0.173438   \n",
       "4  A3GALT2          1  33544953  33559286   17.0        0.100226   \n",
       "\n",
       "   TopSNP Position  \n",
       "0       63556880.0  \n",
       "1       52290471.0  \n",
       "2        9141868.0  \n",
       "3        8920953.0  \n",
       "4       33551630.0  "
      ]
     },
     "execution_count": 14,
     "metadata": {},
     "output_type": "execute_result"
    }
   ],
   "source": [
    "g.gene_level_summary.head()"
   ]
  },
  {
   "cell_type": "code",
   "execution_count": 15,
   "metadata": {},
   "outputs": [
    {
     "name": "stderr",
     "output_type": "stream",
     "text": [
      "/cellar/users/samsonfong/bin/anaconda3/envs/nbgwas2/lib/python3.6/site-packages/pandas-0.23.4-py3.6-linux-x86_64.egg/pandas/core/indexing.py:1027: FutureWarning: \n",
      "Passing list-likes to .loc or [] with any missing label will raise\n",
      "KeyError in the future, you can use .reindex() as an alternative.\n",
      "\n",
      "See the documentation here:\n",
      "https://pandas.pydata.org/pandas-docs/stable/indexing.html#deprecate-loc-reindex-listlike\n",
      "  return getattr(section, self.name)[new_key]\n"
     ]
    },
    {
     "data": {
      "text/plain": [
       "<nbgwas.nbgwas.Nbgwas at 0x7f781b0c41d0>"
      ]
     },
     "execution_count": 15,
     "metadata": {},
     "output_type": "execute_result"
    }
   ],
   "source": [
    "g.diffuse(kernel='/cellar/users/decarlin/Data/kernels/PCNet_kernel.hdf')"
   ]
  },
  {
   "cell_type": "code",
   "execution_count": 23,
   "metadata": {},
   "outputs": [
    {
     "data": {
      "text/html": [
       "<div>\n",
       "<style scoped>\n",
       "    .dataframe tbody tr th:only-of-type {\n",
       "        vertical-align: middle;\n",
       "    }\n",
       "\n",
       "    .dataframe tbody tr th {\n",
       "        vertical-align: top;\n",
       "    }\n",
       "\n",
       "    .dataframe thead th {\n",
       "        text-align: right;\n",
       "    }\n",
       "</style>\n",
       "<table border=\"1\" class=\"dataframe\">\n",
       "  <thead>\n",
       "    <tr style=\"text-align: right;\">\n",
       "      <th></th>\n",
       "      <th>prop</th>\n",
       "    </tr>\n",
       "    <tr>\n",
       "      <th>Gene</th>\n",
       "      <th></th>\n",
       "    </tr>\n",
       "  </thead>\n",
       "  <tbody>\n",
       "    <tr>\n",
       "      <th>LY6G6F</th>\n",
       "      <td>0.744055</td>\n",
       "    </tr>\n",
       "    <tr>\n",
       "      <th>MUSTN1</th>\n",
       "      <td>0.742368</td>\n",
       "    </tr>\n",
       "    <tr>\n",
       "      <th>AGBL3</th>\n",
       "      <td>0.616114</td>\n",
       "    </tr>\n",
       "    <tr>\n",
       "      <th>PATE1</th>\n",
       "      <td>0.501521</td>\n",
       "    </tr>\n",
       "    <tr>\n",
       "      <th>ZSCAN23</th>\n",
       "      <td>0.080481</td>\n",
       "    </tr>\n",
       "  </tbody>\n",
       "</table>\n",
       "</div>"
      ],
      "text/plain": [
       "             prop\n",
       "Gene             \n",
       "LY6G6F   0.744055\n",
       "MUSTN1   0.742368\n",
       "AGBL3    0.616114\n",
       "PATE1    0.501521\n",
       "ZSCAN23  0.080481"
      ]
     },
     "execution_count": 23,
     "metadata": {},
     "output_type": "execute_result"
    }
   ],
   "source": [
    "g.boosted_pvalues.sort_values('prop', ascending=False).head()"
   ]
  },
  {
   "cell_type": "code",
   "execution_count": 17,
   "metadata": {},
   "outputs": [
    {
     "name": "stderr",
     "output_type": "stream",
     "text": [
      "/cellar/users/samsonfong/Ongoing/nbgwas_package/nbgwas/propagation.py:124: UserWarning: Forcing F0 to be sparse\n",
      "  warnings.warn(\"Forcing F0 to be sparse\")\n"
     ]
    },
    {
     "data": {
      "text/plain": [
       "<nbgwas.nbgwas.Nbgwas at 0x7f781b0c41d0>"
      ]
     },
     "execution_count": 17,
     "metadata": {},
     "output_type": "execute_result"
    }
   ],
   "source": [
    "g.random_walk()"
   ]
  },
  {
   "cell_type": "code",
   "execution_count": 21,
   "metadata": {},
   "outputs": [
    {
     "data": {
      "text/html": [
       "<div>\n",
       "<style scoped>\n",
       "    .dataframe tbody tr th:only-of-type {\n",
       "        vertical-align: middle;\n",
       "    }\n",
       "\n",
       "    .dataframe tbody tr th {\n",
       "        vertical-align: top;\n",
       "    }\n",
       "\n",
       "    .dataframe thead th {\n",
       "        text-align: right;\n",
       "    }\n",
       "</style>\n",
       "<table border=\"1\" class=\"dataframe\">\n",
       "  <thead>\n",
       "    <tr style=\"text-align: right;\">\n",
       "      <th></th>\n",
       "      <th>prop</th>\n",
       "    </tr>\n",
       "    <tr>\n",
       "      <th>Gene</th>\n",
       "      <th></th>\n",
       "    </tr>\n",
       "  </thead>\n",
       "  <tbody>\n",
       "    <tr>\n",
       "      <th>LY6G6F</th>\n",
       "      <td>0.744055</td>\n",
       "    </tr>\n",
       "    <tr>\n",
       "      <th>MUSTN1</th>\n",
       "      <td>0.742368</td>\n",
       "    </tr>\n",
       "    <tr>\n",
       "      <th>AGBL3</th>\n",
       "      <td>0.616114</td>\n",
       "    </tr>\n",
       "    <tr>\n",
       "      <th>PATE1</th>\n",
       "      <td>0.501521</td>\n",
       "    </tr>\n",
       "    <tr>\n",
       "      <th>ZSCAN23</th>\n",
       "      <td>0.080481</td>\n",
       "    </tr>\n",
       "  </tbody>\n",
       "</table>\n",
       "</div>"
      ],
      "text/plain": [
       "             prop\n",
       "Gene             \n",
       "LY6G6F   0.744055\n",
       "MUSTN1   0.742368\n",
       "AGBL3    0.616114\n",
       "PATE1    0.501521\n",
       "ZSCAN23  0.080481"
      ]
     },
     "execution_count": 21,
     "metadata": {},
     "output_type": "execute_result"
    }
   ],
   "source": [
    "g.boosted_pvalues.head()"
   ]
  },
  {
   "cell_type": "code",
   "execution_count": 19,
   "metadata": {},
   "outputs": [
    {
     "data": {
      "text/plain": [
       "<nbgwas.nbgwas.Nbgwas at 0x7f781b0c41d0>"
      ]
     },
     "execution_count": 19,
     "metadata": {},
     "output_type": "execute_result"
    }
   ],
   "source": [
    "g.heat_diffusion()"
   ]
  },
  {
   "cell_type": "code",
   "execution_count": 20,
   "metadata": {},
   "outputs": [
    {
     "data": {
      "text/html": [
       "<div>\n",
       "<style scoped>\n",
       "    .dataframe tbody tr th:only-of-type {\n",
       "        vertical-align: middle;\n",
       "    }\n",
       "\n",
       "    .dataframe tbody tr th {\n",
       "        vertical-align: top;\n",
       "    }\n",
       "\n",
       "    .dataframe thead th {\n",
       "        text-align: right;\n",
       "    }\n",
       "</style>\n",
       "<table border=\"1\" class=\"dataframe\">\n",
       "  <thead>\n",
       "    <tr style=\"text-align: right;\">\n",
       "      <th></th>\n",
       "      <th>prop</th>\n",
       "    </tr>\n",
       "    <tr>\n",
       "      <th>Gene</th>\n",
       "      <th></th>\n",
       "    </tr>\n",
       "  </thead>\n",
       "  <tbody>\n",
       "    <tr>\n",
       "      <th>LY6G6F</th>\n",
       "      <td>0.744055</td>\n",
       "    </tr>\n",
       "    <tr>\n",
       "      <th>MUSTN1</th>\n",
       "      <td>0.742368</td>\n",
       "    </tr>\n",
       "    <tr>\n",
       "      <th>AGBL3</th>\n",
       "      <td>0.616114</td>\n",
       "    </tr>\n",
       "    <tr>\n",
       "      <th>PATE1</th>\n",
       "      <td>0.501521</td>\n",
       "    </tr>\n",
       "    <tr>\n",
       "      <th>ZSCAN23</th>\n",
       "      <td>0.080481</td>\n",
       "    </tr>\n",
       "  </tbody>\n",
       "</table>\n",
       "</div>"
      ],
      "text/plain": [
       "             prop\n",
       "Gene             \n",
       "LY6G6F   0.744055\n",
       "MUSTN1   0.742368\n",
       "AGBL3    0.616114\n",
       "PATE1    0.501521\n",
       "ZSCAN23  0.080481"
      ]
     },
     "execution_count": 20,
     "metadata": {},
     "output_type": "execute_result"
    }
   ],
   "source": [
    "g.boosted_pvalues.sort_values('prop', ascending=False).head()"
   ]
  }
 ],
 "metadata": {
  "kernelspec": {
   "display_name": "Python (nbgwas2)",
   "language": "python",
   "name": "nbgwas2"
  },
  "language_info": {
   "codemirror_mode": {
    "name": "ipython",
    "version": 3
   },
   "file_extension": ".py",
   "mimetype": "text/x-python",
   "name": "python",
   "nbconvert_exporter": "python",
   "pygments_lexer": "ipython3",
   "version": "3.6.6"
  }
 },
 "nbformat": 4,
 "nbformat_minor": 2
}
