{
 "cells": [
  {
   "cell_type": "markdown",
   "metadata": {},
   "source": [
    "This notebook demonstrates the basic features of the `nbgwas` package."
   ]
  },
  {
   "cell_type": "code",
   "execution_count": 1,
   "metadata": {},
   "outputs": [],
   "source": [
    "%load_ext autoreload\n",
    "%autoreload 2\n",
    "%matplotlib inline"
   ]
  },
  {
   "cell_type": "code",
   "execution_count": 2,
   "metadata": {},
   "outputs": [],
   "source": [
    "import nbgwas\n",
    "from nbgwas import Nbgwas\n",
    "import numpy as np\n",
    "import pandas as pd"
   ]
  },
  {
   "cell_type": "code",
   "execution_count": 3,
   "metadata": {},
   "outputs": [
    {
     "data": {
      "text/plain": [
       "'0.4.0'"
      ]
     },
     "execution_count": 3,
     "metadata": {},
     "output_type": "execute_result"
    }
   ],
   "source": [
    "nbgwas.__version__"
   ]
  },
  {
   "cell_type": "markdown",
   "metadata": {},
   "source": [
    "# Working with SNP and Genes Tables"
   ]
  },
  {
   "cell_type": "markdown",
   "metadata": {},
   "source": [
    "`Nbgwas` requires two major components to work properly--**gene level summary** that contains p-values from genes, available from the `Genes` object, and a **network** that describes how the genes are connected, available from the `Network` objects. For genome wide association studies (GWAS), genomic information will be at the single nucleotide level. `Nbgwas` contains a class called `Snps` to handle this case.  \n",
    "\n",
    "To gain access to the these internal objects, first instantiate the `Nbgwas` client by calling the constructor. If you have gene level information in the form of `pandas` Dataframe and a network in either `networkx` or `igraph` object, you can provide these to the constructor as well. See the manual or use the `help` function for more information. "
   ]
  },
  {
   "cell_type": "code",
   "execution_count": 4,
   "metadata": {},
   "outputs": [
    {
     "name": "stdout",
     "output_type": "stream",
     "text": [
      "<nbgwas.tables.Snps object at 0x7f304b8a20f0>\n",
      "<nbgwas.tables.Genes object at 0x7f304b8a20b8>\n",
      "<nbgwas.network.NxNetwork object at 0x7f304b8a2128>\n"
     ]
    }
   ],
   "source": [
    "g = Nbgwas()\n",
    "\n",
    "print(g.snps)\n",
    "print(g.genes)\n",
    "print(g.network)"
   ]
  },
  {
   "cell_type": "markdown",
   "metadata": {},
   "source": [
    "Note that by instantiating the client, you will gain access to the all the methods asscoiated with the necessary objects even if there is no internal data. \n",
    "\n",
    "To load a SNP level summary, you can use the `from_file` method from the `snps` attribute. In order for `Nbgwas` to interpret the SNP locations, protein coding tables must also be provided along with the SNP table. The protein coding table describes where the locations on the genome so that `Nbgwas` can determine which of the coding gene, if any, a gene is closest to. All keyword arguments to pandas `read_csv` can be supplied as a keyword dictionary using `snp_kwargs` and `pc_kwargs`."
   ]
  },
  {
   "cell_type": "code",
   "execution_count": 5,
   "metadata": {},
   "outputs": [
    {
     "data": {
      "text/plain": [
       "<nbgwas.tables.Snps at 0x7f304b8a20f0>"
      ]
     },
     "execution_count": 5,
     "metadata": {},
     "output_type": "execute_result"
    }
   ],
   "source": [
    "snp_level_summary_file = '../data/scz/snp_level_summary_stats_pmid_25056061.txt'\n",
    "protein_coding_file = '../data/glist-hg18_proteinCoding.txt'\n",
    "\n",
    "g.snps.from_files(\n",
    "    snp_level_summary_file, \n",
    "    protein_coding_file, \n",
    "    snp_kwargs={'sep':'\\s+'},\n",
    "    pc_kwargs={'sep':'\\s+', 'names':['Chrom', 'Start', 'End'], 'index_col':0}\n",
    ")"
   ]
  },
  {
   "cell_type": "code",
   "execution_count": 6,
   "metadata": {},
   "outputs": [
    {
     "data": {
      "text/html": [
       "<div>\n",
       "<style scoped>\n",
       "    .dataframe tbody tr th:only-of-type {\n",
       "        vertical-align: middle;\n",
       "    }\n",
       "\n",
       "    .dataframe tbody tr th {\n",
       "        vertical-align: top;\n",
       "    }\n",
       "\n",
       "    .dataframe thead th {\n",
       "        text-align: right;\n",
       "    }\n",
       "</style>\n",
       "<table border=\"1\" class=\"dataframe\">\n",
       "  <thead>\n",
       "    <tr style=\"text-align: right;\">\n",
       "      <th></th>\n",
       "      <th>snpid</th>\n",
       "      <th>hg18chr</th>\n",
       "      <th>bp</th>\n",
       "      <th>a1</th>\n",
       "      <th>a2</th>\n",
       "      <th>or</th>\n",
       "      <th>se</th>\n",
       "      <th>pval</th>\n",
       "      <th>info</th>\n",
       "      <th>ngt</th>\n",
       "      <th>CEUaf</th>\n",
       "    </tr>\n",
       "  </thead>\n",
       "  <tbody>\n",
       "    <tr>\n",
       "      <th>0</th>\n",
       "      <td>rs3131972</td>\n",
       "      <td>1</td>\n",
       "      <td>742584</td>\n",
       "      <td>A</td>\n",
       "      <td>G</td>\n",
       "      <td>1.0257</td>\n",
       "      <td>0.0835</td>\n",
       "      <td>0.761033</td>\n",
       "      <td>0.1613</td>\n",
       "      <td>0</td>\n",
       "      <td>0.16055</td>\n",
       "    </tr>\n",
       "    <tr>\n",
       "      <th>1</th>\n",
       "      <td>rs3131969</td>\n",
       "      <td>1</td>\n",
       "      <td>744045</td>\n",
       "      <td>A</td>\n",
       "      <td>G</td>\n",
       "      <td>1.0221</td>\n",
       "      <td>0.0801</td>\n",
       "      <td>0.784919</td>\n",
       "      <td>0.2225</td>\n",
       "      <td>0</td>\n",
       "      <td>0.133028</td>\n",
       "    </tr>\n",
       "    <tr>\n",
       "      <th>2</th>\n",
       "      <td>rs3131967</td>\n",
       "      <td>1</td>\n",
       "      <td>744197</td>\n",
       "      <td>T</td>\n",
       "      <td>C</td>\n",
       "      <td>1.0227</td>\n",
       "      <td>0.0858</td>\n",
       "      <td>0.793520</td>\n",
       "      <td>0.2060</td>\n",
       "      <td>0</td>\n",
       "      <td>.</td>\n",
       "    </tr>\n",
       "    <tr>\n",
       "      <th>3</th>\n",
       "      <td>rs1048488</td>\n",
       "      <td>1</td>\n",
       "      <td>750775</td>\n",
       "      <td>T</td>\n",
       "      <td>C</td>\n",
       "      <td>0.9749</td>\n",
       "      <td>0.0835</td>\n",
       "      <td>0.761041</td>\n",
       "      <td>0.1613</td>\n",
       "      <td>0</td>\n",
       "      <td>0.836449</td>\n",
       "    </tr>\n",
       "    <tr>\n",
       "      <th>4</th>\n",
       "      <td>rs12562034</td>\n",
       "      <td>1</td>\n",
       "      <td>758311</td>\n",
       "      <td>A</td>\n",
       "      <td>G</td>\n",
       "      <td>1.0011</td>\n",
       "      <td>0.0756</td>\n",
       "      <td>0.987899</td>\n",
       "      <td>0.1856</td>\n",
       "      <td>3</td>\n",
       "      <td>0.0925926</td>\n",
       "    </tr>\n",
       "  </tbody>\n",
       "</table>\n",
       "</div>"
      ],
      "text/plain": [
       "        snpid  hg18chr      bp a1 a2      or      se      pval    info  ngt  \\\n",
       "0   rs3131972        1  742584  A  G  1.0257  0.0835  0.761033  0.1613    0   \n",
       "1   rs3131969        1  744045  A  G  1.0221  0.0801  0.784919  0.2225    0   \n",
       "2   rs3131967        1  744197  T  C  1.0227  0.0858  0.793520  0.2060    0   \n",
       "3   rs1048488        1  750775  T  C  0.9749  0.0835  0.761041  0.1613    0   \n",
       "4  rs12562034        1  758311  A  G  1.0011  0.0756  0.987899  0.1856    3   \n",
       "\n",
       "       CEUaf  \n",
       "0    0.16055  \n",
       "1   0.133028  \n",
       "2          .  \n",
       "3   0.836449  \n",
       "4  0.0925926  "
      ]
     },
     "execution_count": 6,
     "metadata": {},
     "output_type": "execute_result"
    }
   ],
   "source": [
    "g.snps.snp_table.head()"
   ]
  },
  {
   "cell_type": "code",
   "execution_count": 7,
   "metadata": {},
   "outputs": [
    {
     "data": {
      "text/html": [
       "<div>\n",
       "<style scoped>\n",
       "    .dataframe tbody tr th:only-of-type {\n",
       "        vertical-align: middle;\n",
       "    }\n",
       "\n",
       "    .dataframe tbody tr th {\n",
       "        vertical-align: top;\n",
       "    }\n",
       "\n",
       "    .dataframe thead th {\n",
       "        text-align: right;\n",
       "    }\n",
       "</style>\n",
       "<table border=\"1\" class=\"dataframe\">\n",
       "  <thead>\n",
       "    <tr style=\"text-align: right;\">\n",
       "      <th></th>\n",
       "      <th>Chrom</th>\n",
       "      <th>Start</th>\n",
       "      <th>End</th>\n",
       "    </tr>\n",
       "  </thead>\n",
       "  <tbody>\n",
       "    <tr>\n",
       "      <th>A1BG</th>\n",
       "      <td>19</td>\n",
       "      <td>63551643</td>\n",
       "      <td>63565932</td>\n",
       "    </tr>\n",
       "    <tr>\n",
       "      <th>A1CF</th>\n",
       "      <td>10</td>\n",
       "      <td>52271589</td>\n",
       "      <td>52315441</td>\n",
       "    </tr>\n",
       "    <tr>\n",
       "      <th>A2M</th>\n",
       "      <td>12</td>\n",
       "      <td>9111570</td>\n",
       "      <td>9159825</td>\n",
       "    </tr>\n",
       "    <tr>\n",
       "      <th>A2ML1</th>\n",
       "      <td>12</td>\n",
       "      <td>8911704</td>\n",
       "      <td>8930864</td>\n",
       "    </tr>\n",
       "    <tr>\n",
       "      <th>A3GALT2</th>\n",
       "      <td>1</td>\n",
       "      <td>33544953</td>\n",
       "      <td>33559286</td>\n",
       "    </tr>\n",
       "  </tbody>\n",
       "</table>\n",
       "</div>"
      ],
      "text/plain": [
       "        Chrom     Start       End\n",
       "A1BG       19  63551643  63565932\n",
       "A1CF       10  52271589  52315441\n",
       "A2M        12   9111570   9159825\n",
       "A2ML1      12   8911704   8930864\n",
       "A3GALT2     1  33544953  33559286"
      ]
     },
     "execution_count": 7,
     "metadata": {},
     "output_type": "execute_result"
    }
   ],
   "source": [
    "g.snps.protein_coding_table.head()"
   ]
  },
  {
   "cell_type": "markdown",
   "metadata": {},
   "source": [
    "To map SNPs to genes, you can use the `assign_snps_to_genes` in the `Snps` object."
   ]
  },
  {
   "cell_type": "code",
   "execution_count": 8,
   "metadata": {},
   "outputs": [],
   "source": [
    "g.genes = g.snps.assign_snps_to_genes(window_size=10000, to_Gene=True)"
   ]
  },
  {
   "cell_type": "markdown",
   "metadata": {},
   "source": [
    "Alternatively, you can provide your own gene level summary that has mapped single nucleotide polymorphisms to genes. Note, doing this will overwrite the existing gene level summary. To load a gene level summary, use the `from_file` method associated with the `Genes` object which is pre-instantiated in Nbgwas `genes` attribute. This method allows the user to provide any keyword arguments associated with the `pandas` `read_csv` function. Additionally, the user needs to provide the column name associated with the p-values (`pval_col`) and gene name (`name_col`)."
   ]
  },
  {
   "cell_type": "code",
   "execution_count": 9,
   "metadata": {},
   "outputs": [
    {
     "data": {
      "text/plain": [
       "<nbgwas.tables.Genes at 0x7f3078363c88>"
      ]
     },
     "execution_count": 9,
     "metadata": {},
     "output_type": "execute_result"
    }
   ],
   "source": [
    "gene_level_summary_file = '../data/scz/gene_level_summary_stats_pmid_25056061.txt'\n",
    "\n",
    "g.genes.from_file(\n",
    "    gene_level_summary_file, \n",
    "    sep='\\t', index_col=0, \n",
    "    pval_col='TopSNP P-Value', \n",
    "    name_col='Gene'\n",
    ")"
   ]
  },
  {
   "cell_type": "markdown",
   "metadata": {},
   "source": [
    "This table is loaded to the `table` attribute and can be accessed as follows. "
   ]
  },
  {
   "cell_type": "code",
   "execution_count": 10,
   "metadata": {},
   "outputs": [
    {
     "data": {
      "text/html": [
       "<div>\n",
       "<style scoped>\n",
       "    .dataframe tbody tr th:only-of-type {\n",
       "        vertical-align: middle;\n",
       "    }\n",
       "\n",
       "    .dataframe tbody tr th {\n",
       "        vertical-align: top;\n",
       "    }\n",
       "\n",
       "    .dataframe thead th {\n",
       "        text-align: right;\n",
       "    }\n",
       "</style>\n",
       "<table border=\"1\" class=\"dataframe\">\n",
       "  <thead>\n",
       "    <tr style=\"text-align: right;\">\n",
       "      <th></th>\n",
       "      <th>Gene</th>\n",
       "      <th>Chr</th>\n",
       "      <th>Gene Start</th>\n",
       "      <th>Gene End</th>\n",
       "      <th>nSNPs</th>\n",
       "      <th>TopSNP</th>\n",
       "      <th>TopSNP Pos</th>\n",
       "      <th>TopSNP P-Value</th>\n",
       "      <th>SNP Distance</th>\n",
       "    </tr>\n",
       "  </thead>\n",
       "  <tbody>\n",
       "    <tr>\n",
       "      <th>5905</th>\n",
       "      <td>HIST1H4K</td>\n",
       "      <td>6</td>\n",
       "      <td>27906930</td>\n",
       "      <td>27907284</td>\n",
       "      <td>8</td>\n",
       "      <td>rs34706883</td>\n",
       "      <td>27913234.0</td>\n",
       "      <td>5.071180e-10</td>\n",
       "      <td>6304.0</td>\n",
       "    </tr>\n",
       "    <tr>\n",
       "      <th>5867</th>\n",
       "      <td>HIST1H2AK</td>\n",
       "      <td>6</td>\n",
       "      <td>27913636</td>\n",
       "      <td>27914096</td>\n",
       "      <td>16</td>\n",
       "      <td>rs34706883</td>\n",
       "      <td>27913234.0</td>\n",
       "      <td>5.071180e-10</td>\n",
       "      <td>402.0</td>\n",
       "    </tr>\n",
       "    <tr>\n",
       "      <th>5883</th>\n",
       "      <td>HIST1H2BN</td>\n",
       "      <td>6</td>\n",
       "      <td>27914418</td>\n",
       "      <td>27914867</td>\n",
       "      <td>17</td>\n",
       "      <td>rs34706883</td>\n",
       "      <td>27913234.0</td>\n",
       "      <td>5.071180e-10</td>\n",
       "      <td>1184.0</td>\n",
       "    </tr>\n",
       "    <tr>\n",
       "      <th>5868</th>\n",
       "      <td>HIST1H2AL</td>\n",
       "      <td>6</td>\n",
       "      <td>27941085</td>\n",
       "      <td>27941555</td>\n",
       "      <td>10</td>\n",
       "      <td>rs13199772</td>\n",
       "      <td>27942064.0</td>\n",
       "      <td>7.053790e-10</td>\n",
       "      <td>979.0</td>\n",
       "    </tr>\n",
       "    <tr>\n",
       "      <th>5855</th>\n",
       "      <td>HIST1H1B</td>\n",
       "      <td>6</td>\n",
       "      <td>27942548</td>\n",
       "      <td>27943338</td>\n",
       "      <td>10</td>\n",
       "      <td>rs13199772</td>\n",
       "      <td>27942064.0</td>\n",
       "      <td>7.053790e-10</td>\n",
       "      <td>484.0</td>\n",
       "    </tr>\n",
       "  </tbody>\n",
       "</table>\n",
       "</div>"
      ],
      "text/plain": [
       "           Gene  Chr  Gene Start  Gene End  nSNPs      TopSNP  TopSNP Pos  \\\n",
       "5905   HIST1H4K    6    27906930  27907284      8  rs34706883  27913234.0   \n",
       "5867  HIST1H2AK    6    27913636  27914096     16  rs34706883  27913234.0   \n",
       "5883  HIST1H2BN    6    27914418  27914867     17  rs34706883  27913234.0   \n",
       "5868  HIST1H2AL    6    27941085  27941555     10  rs13199772  27942064.0   \n",
       "5855   HIST1H1B    6    27942548  27943338     10  rs13199772  27942064.0   \n",
       "\n",
       "      TopSNP P-Value  SNP Distance  \n",
       "5905    5.071180e-10        6304.0  \n",
       "5867    5.071180e-10         402.0  \n",
       "5883    5.071180e-10        1184.0  \n",
       "5868    7.053790e-10         979.0  \n",
       "5855    7.053790e-10         484.0  "
      ]
     },
     "execution_count": 10,
     "metadata": {},
     "output_type": "execute_result"
    }
   ],
   "source": [
    "g.genes.table.head()"
   ]
  },
  {
   "cell_type": "markdown",
   "metadata": {},
   "source": [
    "In order to convert the p-values to heat, you can use the `convert_to_heat` method associated with the `Genes` object. The result is appended to the table. "
   ]
  },
  {
   "cell_type": "code",
   "execution_count": 11,
   "metadata": {},
   "outputs": [
    {
     "data": {
      "text/html": [
       "<div>\n",
       "<style scoped>\n",
       "    .dataframe tbody tr th:only-of-type {\n",
       "        vertical-align: middle;\n",
       "    }\n",
       "\n",
       "    .dataframe tbody tr th {\n",
       "        vertical-align: top;\n",
       "    }\n",
       "\n",
       "    .dataframe thead th {\n",
       "        text-align: right;\n",
       "    }\n",
       "</style>\n",
       "<table border=\"1\" class=\"dataframe\">\n",
       "  <thead>\n",
       "    <tr style=\"text-align: right;\">\n",
       "      <th></th>\n",
       "      <th>Gene</th>\n",
       "      <th>Chr</th>\n",
       "      <th>Gene Start</th>\n",
       "      <th>Gene End</th>\n",
       "      <th>nSNPs</th>\n",
       "      <th>TopSNP</th>\n",
       "      <th>TopSNP Pos</th>\n",
       "      <th>TopSNP P-Value</th>\n",
       "      <th>SNP Distance</th>\n",
       "      <th>Binarized Heat</th>\n",
       "    </tr>\n",
       "  </thead>\n",
       "  <tbody>\n",
       "    <tr>\n",
       "      <th>5905</th>\n",
       "      <td>HIST1H4K</td>\n",
       "      <td>6</td>\n",
       "      <td>27906930</td>\n",
       "      <td>27907284</td>\n",
       "      <td>8</td>\n",
       "      <td>rs34706883</td>\n",
       "      <td>27913234.0</td>\n",
       "      <td>5.071180e-10</td>\n",
       "      <td>6304.0</td>\n",
       "      <td>1.0</td>\n",
       "    </tr>\n",
       "    <tr>\n",
       "      <th>2009</th>\n",
       "      <td>CCDC39</td>\n",
       "      <td>3</td>\n",
       "      <td>181908070</td>\n",
       "      <td>182070660</td>\n",
       "      <td>56</td>\n",
       "      <td>rs1879248</td>\n",
       "      <td>182033908.0</td>\n",
       "      <td>1.272380e-06</td>\n",
       "      <td>125838.0</td>\n",
       "      <td>1.0</td>\n",
       "    </tr>\n",
       "    <tr>\n",
       "      <th>12335</th>\n",
       "      <td>SLC17A3</td>\n",
       "      <td>6</td>\n",
       "      <td>25953306</td>\n",
       "      <td>25982450</td>\n",
       "      <td>37</td>\n",
       "      <td>rs9461219</td>\n",
       "      <td>25944906.0</td>\n",
       "      <td>4.003060e-07</td>\n",
       "      <td>8400.0</td>\n",
       "      <td>1.0</td>\n",
       "    </tr>\n",
       "    <tr>\n",
       "      <th>1416</th>\n",
       "      <td>BTN3A2</td>\n",
       "      <td>6</td>\n",
       "      <td>26476384</td>\n",
       "      <td>26484953</td>\n",
       "      <td>42</td>\n",
       "      <td>rs1978</td>\n",
       "      <td>26485552.0</td>\n",
       "      <td>4.755630e-07</td>\n",
       "      <td>9168.0</td>\n",
       "      <td>1.0</td>\n",
       "    </tr>\n",
       "    <tr>\n",
       "      <th>1414</th>\n",
       "      <td>BTN2A2</td>\n",
       "      <td>6</td>\n",
       "      <td>26491441</td>\n",
       "      <td>26503079</td>\n",
       "      <td>43</td>\n",
       "      <td>rs1978</td>\n",
       "      <td>26485552.0</td>\n",
       "      <td>4.755630e-07</td>\n",
       "      <td>5889.0</td>\n",
       "      <td>1.0</td>\n",
       "    </tr>\n",
       "  </tbody>\n",
       "</table>\n",
       "</div>"
      ],
      "text/plain": [
       "           Gene  Chr  Gene Start   Gene End  nSNPs      TopSNP   TopSNP Pos  \\\n",
       "5905   HIST1H4K    6    27906930   27907284      8  rs34706883   27913234.0   \n",
       "2009     CCDC39    3   181908070  182070660     56   rs1879248  182033908.0   \n",
       "12335   SLC17A3    6    25953306   25982450     37   rs9461219   25944906.0   \n",
       "1416     BTN3A2    6    26476384   26484953     42      rs1978   26485552.0   \n",
       "1414     BTN2A2    6    26491441   26503079     43      rs1978   26485552.0   \n",
       "\n",
       "       TopSNP P-Value  SNP Distance  Binarized Heat  \n",
       "5905     5.071180e-10        6304.0             1.0  \n",
       "2009     1.272380e-06      125838.0             1.0  \n",
       "12335    4.003060e-07        8400.0             1.0  \n",
       "1416     4.755630e-07        9168.0             1.0  \n",
       "1414     4.755630e-07        5889.0             1.0  "
      ]
     },
     "execution_count": 11,
     "metadata": {},
     "output_type": "execute_result"
    }
   ],
   "source": [
    "g.genes.convert_to_heat(method='binarize', name='Binarized Heat')\n",
    "g.genes.table.head()"
   ]
  },
  {
   "cell_type": "code",
   "execution_count": 12,
   "metadata": {},
   "outputs": [
    {
     "data": {
      "text/html": [
       "<div>\n",
       "<style scoped>\n",
       "    .dataframe tbody tr th:only-of-type {\n",
       "        vertical-align: middle;\n",
       "    }\n",
       "\n",
       "    .dataframe tbody tr th {\n",
       "        vertical-align: top;\n",
       "    }\n",
       "\n",
       "    .dataframe thead th {\n",
       "        text-align: right;\n",
       "    }\n",
       "</style>\n",
       "<table border=\"1\" class=\"dataframe\">\n",
       "  <thead>\n",
       "    <tr style=\"text-align: right;\">\n",
       "      <th></th>\n",
       "      <th>Gene</th>\n",
       "      <th>Chr</th>\n",
       "      <th>Gene Start</th>\n",
       "      <th>Gene End</th>\n",
       "      <th>nSNPs</th>\n",
       "      <th>TopSNP</th>\n",
       "      <th>TopSNP Pos</th>\n",
       "      <th>TopSNP P-Value</th>\n",
       "      <th>SNP Distance</th>\n",
       "      <th>Binarized Heat</th>\n",
       "      <th>Negative Log</th>\n",
       "    </tr>\n",
       "  </thead>\n",
       "  <tbody>\n",
       "    <tr>\n",
       "      <th>5905</th>\n",
       "      <td>HIST1H4K</td>\n",
       "      <td>6</td>\n",
       "      <td>27906930</td>\n",
       "      <td>27907284</td>\n",
       "      <td>8</td>\n",
       "      <td>rs34706883</td>\n",
       "      <td>27913234.0</td>\n",
       "      <td>5.071180e-10</td>\n",
       "      <td>6304.0</td>\n",
       "      <td>1.0</td>\n",
       "      <td>21.402277</td>\n",
       "    </tr>\n",
       "    <tr>\n",
       "      <th>5867</th>\n",
       "      <td>HIST1H2AK</td>\n",
       "      <td>6</td>\n",
       "      <td>27913636</td>\n",
       "      <td>27914096</td>\n",
       "      <td>16</td>\n",
       "      <td>rs34706883</td>\n",
       "      <td>27913234.0</td>\n",
       "      <td>5.071180e-10</td>\n",
       "      <td>402.0</td>\n",
       "      <td>1.0</td>\n",
       "      <td>21.402277</td>\n",
       "    </tr>\n",
       "    <tr>\n",
       "      <th>5883</th>\n",
       "      <td>HIST1H2BN</td>\n",
       "      <td>6</td>\n",
       "      <td>27914418</td>\n",
       "      <td>27914867</td>\n",
       "      <td>17</td>\n",
       "      <td>rs34706883</td>\n",
       "      <td>27913234.0</td>\n",
       "      <td>5.071180e-10</td>\n",
       "      <td>1184.0</td>\n",
       "      <td>1.0</td>\n",
       "      <td>21.402277</td>\n",
       "    </tr>\n",
       "    <tr>\n",
       "      <th>5893</th>\n",
       "      <td>HIST1H3I</td>\n",
       "      <td>6</td>\n",
       "      <td>27947601</td>\n",
       "      <td>27948078</td>\n",
       "      <td>10</td>\n",
       "      <td>rs13199772</td>\n",
       "      <td>27942064.0</td>\n",
       "      <td>7.053790e-10</td>\n",
       "      <td>5537.0</td>\n",
       "      <td>1.0</td>\n",
       "      <td>21.072286</td>\n",
       "    </tr>\n",
       "    <tr>\n",
       "      <th>5906</th>\n",
       "      <td>HIST1H4L</td>\n",
       "      <td>6</td>\n",
       "      <td>27948904</td>\n",
       "      <td>27949268</td>\n",
       "      <td>10</td>\n",
       "      <td>rs13199772</td>\n",
       "      <td>27942064.0</td>\n",
       "      <td>7.053790e-10</td>\n",
       "      <td>6840.0</td>\n",
       "      <td>1.0</td>\n",
       "      <td>21.072286</td>\n",
       "    </tr>\n",
       "  </tbody>\n",
       "</table>\n",
       "</div>"
      ],
      "text/plain": [
       "           Gene  Chr  Gene Start  Gene End  nSNPs      TopSNP  TopSNP Pos  \\\n",
       "5905   HIST1H4K    6    27906930  27907284      8  rs34706883  27913234.0   \n",
       "5867  HIST1H2AK    6    27913636  27914096     16  rs34706883  27913234.0   \n",
       "5883  HIST1H2BN    6    27914418  27914867     17  rs34706883  27913234.0   \n",
       "5893   HIST1H3I    6    27947601  27948078     10  rs13199772  27942064.0   \n",
       "5906   HIST1H4L    6    27948904  27949268     10  rs13199772  27942064.0   \n",
       "\n",
       "      TopSNP P-Value  SNP Distance  Binarized Heat  Negative Log  \n",
       "5905    5.071180e-10        6304.0             1.0     21.402277  \n",
       "5867    5.071180e-10         402.0             1.0     21.402277  \n",
       "5883    5.071180e-10        1184.0             1.0     21.402277  \n",
       "5893    7.053790e-10        5537.0             1.0     21.072286  \n",
       "5906    7.053790e-10        6840.0             1.0     21.072286  "
      ]
     },
     "execution_count": 12,
     "metadata": {},
     "output_type": "execute_result"
    }
   ],
   "source": [
    "g.genes.convert_to_heat(method='neg_log', name='Negative Log')\n",
    "g.genes.table.head()"
   ]
  },
  {
   "cell_type": "markdown",
   "metadata": {},
   "source": [
    "# Adding Networks"
   ]
  },
  {
   "cell_type": "markdown",
   "metadata": {},
   "source": [
    "Now that we have all the genes associated information, we can now load a network to enable a network analysis of the genes information. Like the methods associated with `Genes`, all network related methods is available in `network` attribute. There are many ways to load a network, including reading a serialized `networkx` object using `from_pickle`, pulling a network from NDex using `from_ndex`, or reading from a flat CX file using `from_cx`. If you already have a `networkx` or `igraph` graph, you can add it directly to the network using `client.network = myGraph`."
   ]
  },
  {
   "cell_type": "code",
   "execution_count": 13,
   "metadata": {},
   "outputs": [
    {
     "data": {
      "text/plain": [
       "<nbgwas.network.NxNetwork at 0x7f304b8a2128>"
      ]
     },
     "execution_count": 13,
     "metadata": {},
     "output_type": "execute_result"
    }
   ],
   "source": [
    "g.network.from_pickle('../data/networks/pcnet.pkl')"
   ]
  },
  {
   "cell_type": "markdown",
   "metadata": {},
   "source": [
    "You can access node attributes using the `node_table`. Right now, it only contains the name for each gene. This table will contain the results of the network propagation later. "
   ]
  },
  {
   "cell_type": "code",
   "execution_count": 14,
   "metadata": {},
   "outputs": [
    {
     "data": {
      "text/html": [
       "<div>\n",
       "<style scoped>\n",
       "    .dataframe tbody tr th:only-of-type {\n",
       "        vertical-align: middle;\n",
       "    }\n",
       "\n",
       "    .dataframe tbody tr th {\n",
       "        vertical-align: top;\n",
       "    }\n",
       "\n",
       "    .dataframe thead th {\n",
       "        text-align: right;\n",
       "    }\n",
       "</style>\n",
       "<table border=\"1\" class=\"dataframe\">\n",
       "  <thead>\n",
       "    <tr style=\"text-align: right;\">\n",
       "      <th></th>\n",
       "      <th>name</th>\n",
       "    </tr>\n",
       "  </thead>\n",
       "  <tbody>\n",
       "    <tr>\n",
       "      <th>0</th>\n",
       "      <td>UBE2Q1</td>\n",
       "    </tr>\n",
       "    <tr>\n",
       "      <th>1</th>\n",
       "      <td>RNF14</td>\n",
       "    </tr>\n",
       "    <tr>\n",
       "      <th>2</th>\n",
       "      <td>UBE2Q2</td>\n",
       "    </tr>\n",
       "    <tr>\n",
       "      <th>3</th>\n",
       "      <td>RNF10</td>\n",
       "    </tr>\n",
       "    <tr>\n",
       "      <th>4</th>\n",
       "      <td>RNF11</td>\n",
       "    </tr>\n",
       "  </tbody>\n",
       "</table>\n",
       "</div>"
      ],
      "text/plain": [
       "     name\n",
       "0  UBE2Q1\n",
       "1   RNF14\n",
       "2  UBE2Q2\n",
       "3   RNF10\n",
       "4   RNF11"
      ]
     },
     "execution_count": 14,
     "metadata": {},
     "output_type": "execute_result"
    }
   ],
   "source": [
    "g.network.node_table.head()"
   ]
  },
  {
   "cell_type": "markdown",
   "metadata": {},
   "source": [
    "In order to move data from the `Genes` table to the `Network`'s `node_table`, you can use `map_to_node_table` method where you can specify the specific columns to map onto the network's node attributes. "
   ]
  },
  {
   "cell_type": "code",
   "execution_count": 15,
   "metadata": {},
   "outputs": [
    {
     "data": {
      "text/html": [
       "<div>\n",
       "<style scoped>\n",
       "    .dataframe tbody tr th:only-of-type {\n",
       "        vertical-align: middle;\n",
       "    }\n",
       "\n",
       "    .dataframe tbody tr th {\n",
       "        vertical-align: top;\n",
       "    }\n",
       "\n",
       "    .dataframe thead th {\n",
       "        text-align: right;\n",
       "    }\n",
       "</style>\n",
       "<table border=\"1\" class=\"dataframe\">\n",
       "  <thead>\n",
       "    <tr style=\"text-align: right;\">\n",
       "      <th></th>\n",
       "      <th>Binarized Heat</th>\n",
       "      <th>Negative Log</th>\n",
       "      <th>name</th>\n",
       "    </tr>\n",
       "  </thead>\n",
       "  <tbody>\n",
       "    <tr>\n",
       "      <th>0</th>\n",
       "      <td>0.0</td>\n",
       "      <td>3.049072</td>\n",
       "      <td>UBE2Q1</td>\n",
       "    </tr>\n",
       "    <tr>\n",
       "      <th>1</th>\n",
       "      <td>0.0</td>\n",
       "      <td>3.184936</td>\n",
       "      <td>RNF14</td>\n",
       "    </tr>\n",
       "    <tr>\n",
       "      <th>2</th>\n",
       "      <td>0.0</td>\n",
       "      <td>1.235095</td>\n",
       "      <td>UBE2Q2</td>\n",
       "    </tr>\n",
       "    <tr>\n",
       "      <th>3</th>\n",
       "      <td>0.0</td>\n",
       "      <td>2.250201</td>\n",
       "      <td>RNF10</td>\n",
       "    </tr>\n",
       "    <tr>\n",
       "      <th>4</th>\n",
       "      <td>0.0</td>\n",
       "      <td>1.908012</td>\n",
       "      <td>RNF11</td>\n",
       "    </tr>\n",
       "  </tbody>\n",
       "</table>\n",
       "</div>"
      ],
      "text/plain": [
       "   Binarized Heat  Negative Log    name\n",
       "0             0.0      3.049072  UBE2Q1\n",
       "1             0.0      3.184936   RNF14\n",
       "2             0.0      1.235095  UBE2Q2\n",
       "3             0.0      2.250201   RNF10\n",
       "4             0.0      1.908012   RNF11"
      ]
     },
     "execution_count": 15,
     "metadata": {},
     "output_type": "execute_result"
    }
   ],
   "source": [
    "g.map_to_node_table(columns=['Binarized Heat', 'Negative Log'])\n",
    "g.network.node_table.head()"
   ]
  },
  {
   "cell_type": "markdown",
   "metadata": {},
   "source": [
    "# Network Propagation"
   ]
  },
  {
   "cell_type": "markdown",
   "metadata": {},
   "source": [
    "From there, the information is available for network propagation. "
   ]
  },
  {
   "cell_type": "code",
   "execution_count": 16,
   "metadata": {},
   "outputs": [
    {
     "name": "stderr",
     "output_type": "stream",
     "text": [
      "/cellar/users/samsonfong/Ongoing/nbgwas_package/nbgwas/propagation.py:57: UserWarning: Forcing F0 to be sparse\n",
      "  warnings.warn(\"Forcing F0 to be sparse\")\n"
     ]
    },
    {
     "data": {
      "text/html": [
       "<div>\n",
       "<style scoped>\n",
       "    .dataframe tbody tr th:only-of-type {\n",
       "        vertical-align: middle;\n",
       "    }\n",
       "\n",
       "    .dataframe tbody tr th {\n",
       "        vertical-align: top;\n",
       "    }\n",
       "\n",
       "    .dataframe thead th {\n",
       "        text-align: right;\n",
       "    }\n",
       "</style>\n",
       "<table border=\"1\" class=\"dataframe\">\n",
       "  <thead>\n",
       "    <tr style=\"text-align: right;\">\n",
       "      <th></th>\n",
       "      <th>Binarized Heat</th>\n",
       "      <th>Negative Log</th>\n",
       "      <th>name</th>\n",
       "      <th>Diffused (Binarized)</th>\n",
       "    </tr>\n",
       "  </thead>\n",
       "  <tbody>\n",
       "    <tr>\n",
       "      <th>15215</th>\n",
       "      <td>1.0</td>\n",
       "      <td>14.399194</td>\n",
       "      <td>TCF4</td>\n",
       "      <td>0.823535</td>\n",
       "    </tr>\n",
       "    <tr>\n",
       "      <th>7301</th>\n",
       "      <td>1.0</td>\n",
       "      <td>14.820414</td>\n",
       "      <td>HIST1H2BC</td>\n",
       "      <td>0.814440</td>\n",
       "    </tr>\n",
       "    <tr>\n",
       "      <th>14802</th>\n",
       "      <td>1.0</td>\n",
       "      <td>14.533063</td>\n",
       "      <td>HIST1H4C</td>\n",
       "      <td>0.814388</td>\n",
       "    </tr>\n",
       "    <tr>\n",
       "      <th>4719</th>\n",
       "      <td>1.0</td>\n",
       "      <td>16.862172</td>\n",
       "      <td>ZKSCAN3</td>\n",
       "      <td>0.814367</td>\n",
       "    </tr>\n",
       "    <tr>\n",
       "      <th>14811</th>\n",
       "      <td>1.0</td>\n",
       "      <td>14.887917</td>\n",
       "      <td>HIST1H4J</td>\n",
       "      <td>0.813903</td>\n",
       "    </tr>\n",
       "  </tbody>\n",
       "</table>\n",
       "</div>"
      ],
      "text/plain": [
       "       Binarized Heat  Negative Log       name  Diffused (Binarized)\n",
       "15215             1.0     14.399194       TCF4              0.823535\n",
       "7301              1.0     14.820414  HIST1H2BC              0.814440\n",
       "14802             1.0     14.533063   HIST1H4C              0.814388\n",
       "4719              1.0     16.862172    ZKSCAN3              0.814367\n",
       "14811             1.0     14.887917   HIST1H4J              0.813903"
      ]
     },
     "execution_count": 16,
     "metadata": {},
     "output_type": "execute_result"
    }
   ],
   "source": [
    "g.diffuse(method='random_walk', alpha=0.8, node_attribute='Binarized Heat', result_name='Diffused (Binarized)')\n",
    "g.network.node_table.head()"
   ]
  },
  {
   "cell_type": "code",
   "execution_count": 17,
   "metadata": {},
   "outputs": [
    {
     "name": "stderr",
     "output_type": "stream",
     "text": [
      "/cellar/users/samsonfong/Ongoing/nbgwas_package/nbgwas/propagation.py:57: UserWarning: Forcing F0 to be sparse\n",
      "  warnings.warn(\"Forcing F0 to be sparse\")\n"
     ]
    },
    {
     "data": {
      "text/html": [
       "<div>\n",
       "<style scoped>\n",
       "    .dataframe tbody tr th:only-of-type {\n",
       "        vertical-align: middle;\n",
       "    }\n",
       "\n",
       "    .dataframe tbody tr th {\n",
       "        vertical-align: top;\n",
       "    }\n",
       "\n",
       "    .dataframe thead th {\n",
       "        text-align: right;\n",
       "    }\n",
       "</style>\n",
       "<table border=\"1\" class=\"dataframe\">\n",
       "  <thead>\n",
       "    <tr style=\"text-align: right;\">\n",
       "      <th></th>\n",
       "      <th>Binarized Heat</th>\n",
       "      <th>Negative Log</th>\n",
       "      <th>name</th>\n",
       "      <th>Diffused (Binarized)</th>\n",
       "      <th>Diffused (Log)</th>\n",
       "    </tr>\n",
       "  </thead>\n",
       "  <tbody>\n",
       "    <tr>\n",
       "      <th>8466</th>\n",
       "      <td>0.0</td>\n",
       "      <td>1.730928</td>\n",
       "      <td>UBC</td>\n",
       "      <td>0.030918</td>\n",
       "      <td>98.234079</td>\n",
       "    </tr>\n",
       "    <tr>\n",
       "      <th>341</th>\n",
       "      <td>0.0</td>\n",
       "      <td>11.557914</td>\n",
       "      <td>APP</td>\n",
       "      <td>0.004565</td>\n",
       "      <td>34.606344</td>\n",
       "    </tr>\n",
       "    <tr>\n",
       "      <th>1079</th>\n",
       "      <td>0.0</td>\n",
       "      <td>1.239945</td>\n",
       "      <td>HNF4A</td>\n",
       "      <td>0.009754</td>\n",
       "      <td>28.074621</td>\n",
       "    </tr>\n",
       "    <tr>\n",
       "      <th>4787</th>\n",
       "      <td>0.0</td>\n",
       "      <td>0.000000</td>\n",
       "      <td>TAF1</td>\n",
       "      <td>0.015459</td>\n",
       "      <td>27.823852</td>\n",
       "    </tr>\n",
       "    <tr>\n",
       "      <th>8206</th>\n",
       "      <td>0.0</td>\n",
       "      <td>3.251241</td>\n",
       "      <td>JUN</td>\n",
       "      <td>0.014097</td>\n",
       "      <td>26.689007</td>\n",
       "    </tr>\n",
       "  </tbody>\n",
       "</table>\n",
       "</div>"
      ],
      "text/plain": [
       "      Binarized Heat  Negative Log   name  Diffused (Binarized)  \\\n",
       "8466             0.0      1.730928    UBC              0.030918   \n",
       "341              0.0     11.557914    APP              0.004565   \n",
       "1079             0.0      1.239945  HNF4A              0.009754   \n",
       "4787             0.0      0.000000   TAF1              0.015459   \n",
       "8206             0.0      3.251241    JUN              0.014097   \n",
       "\n",
       "      Diffused (Log)  \n",
       "8466       98.234079  \n",
       "341        34.606344  \n",
       "1079       28.074621  \n",
       "4787       27.823852  \n",
       "8206       26.689007  "
      ]
     },
     "execution_count": 17,
     "metadata": {},
     "output_type": "execute_result"
    }
   ],
   "source": [
    "g.diffuse(method='random_walk', alpha=0.2, node_attribute='Negative Log', result_name='Diffused (Log)')\n",
    "g.network.node_table.head()"
   ]
  },
  {
   "cell_type": "code",
   "execution_count": 18,
   "metadata": {},
   "outputs": [
    {
     "data": {
      "text/html": [
       "<div>\n",
       "<style scoped>\n",
       "    .dataframe tbody tr th:only-of-type {\n",
       "        vertical-align: middle;\n",
       "    }\n",
       "\n",
       "    .dataframe tbody tr th {\n",
       "        vertical-align: top;\n",
       "    }\n",
       "\n",
       "    .dataframe thead th {\n",
       "        text-align: right;\n",
       "    }\n",
       "</style>\n",
       "<table border=\"1\" class=\"dataframe\">\n",
       "  <thead>\n",
       "    <tr style=\"text-align: right;\">\n",
       "      <th></th>\n",
       "      <th>Binarized Heat</th>\n",
       "      <th>Negative Log</th>\n",
       "      <th>name</th>\n",
       "      <th>Diffused (Binarized)</th>\n",
       "      <th>Diffused (Log)</th>\n",
       "      <th>Diffused (Heat, Log)</th>\n",
       "    </tr>\n",
       "  </thead>\n",
       "  <tbody>\n",
       "    <tr>\n",
       "      <th>1323</th>\n",
       "      <td>0.0</td>\n",
       "      <td>10.960329</td>\n",
       "      <td>TMEM132E</td>\n",
       "      <td>1.167886e-07</td>\n",
       "      <td>2.204750</td>\n",
       "      <td>10.170592</td>\n",
       "    </tr>\n",
       "    <tr>\n",
       "      <th>19067</th>\n",
       "      <td>1.0</td>\n",
       "      <td>12.647988</td>\n",
       "      <td>MUSTN1</td>\n",
       "      <td>8.000999e-01</td>\n",
       "      <td>2.560178</td>\n",
       "      <td>10.066017</td>\n",
       "    </tr>\n",
       "    <tr>\n",
       "      <th>16461</th>\n",
       "      <td>1.0</td>\n",
       "      <td>12.367606</td>\n",
       "      <td>LY6G6F</td>\n",
       "      <td>8.005165e-01</td>\n",
       "      <td>2.519624</td>\n",
       "      <td>9.776831</td>\n",
       "    </tr>\n",
       "    <tr>\n",
       "      <th>8473</th>\n",
       "      <td>1.0</td>\n",
       "      <td>15.157662</td>\n",
       "      <td>PATE1</td>\n",
       "      <td>8.004600e-01</td>\n",
       "      <td>3.101642</td>\n",
       "      <td>8.799450</td>\n",
       "    </tr>\n",
       "    <tr>\n",
       "      <th>10711</th>\n",
       "      <td>1.0</td>\n",
       "      <td>12.385317</td>\n",
       "      <td>AGBL3</td>\n",
       "      <td>8.018084e-01</td>\n",
       "      <td>2.796266</td>\n",
       "      <td>8.790366</td>\n",
       "    </tr>\n",
       "  </tbody>\n",
       "</table>\n",
       "</div>"
      ],
      "text/plain": [
       "       Binarized Heat  Negative Log      name  Diffused (Binarized)  \\\n",
       "1323              0.0     10.960329  TMEM132E          1.167886e-07   \n",
       "19067             1.0     12.647988    MUSTN1          8.000999e-01   \n",
       "16461             1.0     12.367606    LY6G6F          8.005165e-01   \n",
       "8473              1.0     15.157662     PATE1          8.004600e-01   \n",
       "10711             1.0     12.385317     AGBL3          8.018084e-01   \n",
       "\n",
       "       Diffused (Log)  Diffused (Heat, Log)  \n",
       "1323         2.204750             10.170592  \n",
       "19067        2.560178             10.066017  \n",
       "16461        2.519624              9.776831  \n",
       "8473         3.101642              8.799450  \n",
       "10711        2.796266              8.790366  "
      ]
     },
     "execution_count": 18,
     "metadata": {},
     "output_type": "execute_result"
    }
   ],
   "source": [
    "g.diffuse(method='heat_diffusion', node_attribute='Negative Log', result_name='Diffused (Heat, Log)')\n",
    "g.network.node_table.head()"
   ]
  },
  {
   "cell_type": "code",
   "execution_count": 19,
   "metadata": {},
   "outputs": [
    {
     "data": {
      "text/html": [
       "<div>\n",
       "<style scoped>\n",
       "    .dataframe tbody tr th:only-of-type {\n",
       "        vertical-align: middle;\n",
       "    }\n",
       "\n",
       "    .dataframe tbody tr th {\n",
       "        vertical-align: top;\n",
       "    }\n",
       "\n",
       "    .dataframe thead th {\n",
       "        text-align: right;\n",
       "    }\n",
       "</style>\n",
       "<table border=\"1\" class=\"dataframe\">\n",
       "  <thead>\n",
       "    <tr style=\"text-align: right;\">\n",
       "      <th></th>\n",
       "      <th>Binarized Heat</th>\n",
       "      <th>Negative Log</th>\n",
       "      <th>name</th>\n",
       "      <th>Diffused (Binarized)</th>\n",
       "      <th>Diffused (Log)</th>\n",
       "      <th>Diffused (Heat, Log)</th>\n",
       "      <th>Diffused (Heat, Binarize)</th>\n",
       "    </tr>\n",
       "  </thead>\n",
       "  <tbody>\n",
       "    <tr>\n",
       "      <th>16461</th>\n",
       "      <td>1.0</td>\n",
       "      <td>12.367606</td>\n",
       "      <td>LY6G6F</td>\n",
       "      <td>0.800516</td>\n",
       "      <td>2.519624</td>\n",
       "      <td>9.776831</td>\n",
       "      <td>0.744055</td>\n",
       "    </tr>\n",
       "    <tr>\n",
       "      <th>19067</th>\n",
       "      <td>1.0</td>\n",
       "      <td>12.647988</td>\n",
       "      <td>MUSTN1</td>\n",
       "      <td>0.800100</td>\n",
       "      <td>2.560178</td>\n",
       "      <td>10.066017</td>\n",
       "      <td>0.742368</td>\n",
       "    </tr>\n",
       "    <tr>\n",
       "      <th>10711</th>\n",
       "      <td>1.0</td>\n",
       "      <td>12.385317</td>\n",
       "      <td>AGBL3</td>\n",
       "      <td>0.801808</td>\n",
       "      <td>2.796266</td>\n",
       "      <td>8.790366</td>\n",
       "      <td>0.616114</td>\n",
       "    </tr>\n",
       "    <tr>\n",
       "      <th>8473</th>\n",
       "      <td>1.0</td>\n",
       "      <td>15.157662</td>\n",
       "      <td>PATE1</td>\n",
       "      <td>0.800460</td>\n",
       "      <td>3.101642</td>\n",
       "      <td>8.799450</td>\n",
       "      <td>0.501521</td>\n",
       "    </tr>\n",
       "    <tr>\n",
       "      <th>5925</th>\n",
       "      <td>1.0</td>\n",
       "      <td>17.424836</td>\n",
       "      <td>ZSCAN23</td>\n",
       "      <td>0.800947</td>\n",
       "      <td>3.765637</td>\n",
       "      <td>3.712298</td>\n",
       "      <td>0.080481</td>\n",
       "    </tr>\n",
       "  </tbody>\n",
       "</table>\n",
       "</div>"
      ],
      "text/plain": [
       "       Binarized Heat  Negative Log     name  Diffused (Binarized)  \\\n",
       "16461             1.0     12.367606   LY6G6F              0.800516   \n",
       "19067             1.0     12.647988   MUSTN1              0.800100   \n",
       "10711             1.0     12.385317    AGBL3              0.801808   \n",
       "8473              1.0     15.157662    PATE1              0.800460   \n",
       "5925              1.0     17.424836  ZSCAN23              0.800947   \n",
       "\n",
       "       Diffused (Log)  Diffused (Heat, Log)  Diffused (Heat, Binarize)  \n",
       "16461        2.519624              9.776831                   0.744055  \n",
       "19067        2.560178             10.066017                   0.742368  \n",
       "10711        2.796266              8.790366                   0.616114  \n",
       "8473         3.101642              8.799450                   0.501521  \n",
       "5925         3.765637              3.712298                   0.080481  "
      ]
     },
     "execution_count": 19,
     "metadata": {},
     "output_type": "execute_result"
    }
   ],
   "source": [
    "g.diffuse(method='heat_diffusion', node_attribute='Binarized Heat', result_name='Diffused (Heat, Binarize)')\n",
    "g.network.node_table.head()"
   ]
  },
  {
   "cell_type": "markdown",
   "metadata": {},
   "source": [
    "To sync the information from the node table to node attributes, use the `refresh_node_attributes` method."
   ]
  },
  {
   "cell_type": "code",
   "execution_count": 20,
   "metadata": {},
   "outputs": [
    {
     "data": {
      "text/plain": [
       "<nbgwas.network.NxNetwork at 0x7f304b8a2128>"
      ]
     },
     "execution_count": 20,
     "metadata": {},
     "output_type": "execute_result"
    }
   ],
   "source": [
    "g.network.refresh_node_attributes()"
   ]
  },
  {
   "cell_type": "markdown",
   "metadata": {},
   "source": [
    "# Viewing and Interacting with Networks"
   ]
  },
  {
   "cell_type": "code",
   "execution_count": 21,
   "metadata": {},
   "outputs": [
    {
     "name": "stderr",
     "output_type": "stream",
     "text": [
      "/cellar/users/samsonfong/Ongoing/nbgwas_package/nbgwas/network.py:386: UserWarning: The specified graph does not have the attribute Diffused (Binarize). Replacing values with 0.\n",
      "  \"The specified graph does not have the attribute %s. Replacing values with 0.\" % attributes\n",
      "/cellar/users/samsonfong/bin/anaconda3/envs/nbgwas2/lib/python3.6/site-packages/networkx/drawing/nx_pylab.py:126: MatplotlibDeprecationWarning: pyplot.hold is deprecated.\n",
      "    Future behavior will be consistent with the long-time default:\n",
      "    plot commands add elements without first clearing the\n",
      "    Axes and/or Figure.\n",
      "  b = plt.ishold()\n",
      "/cellar/users/samsonfong/bin/anaconda3/envs/nbgwas2/lib/python3.6/site-packages/networkx/drawing/nx_pylab.py:522: MatplotlibDeprecationWarning: The is_string_like function was deprecated in version 2.1.\n",
      "  if not cb.is_string_like(edge_color) \\\n",
      "/cellar/users/samsonfong/bin/anaconda3/envs/nbgwas2/lib/python3.6/site-packages/networkx/drawing/nx_pylab.py:543: MatplotlibDeprecationWarning: The is_string_like function was deprecated in version 2.1.\n",
      "  if cb.is_string_like(edge_color) or len(edge_color) == 1:\n",
      "/cellar/users/samsonfong/bin/anaconda3/envs/nbgwas2/lib/python3.6/site-packages/networkx/drawing/nx_pylab.py:724: MatplotlibDeprecationWarning: The is_string_like function was deprecated in version 2.1.\n",
      "  if not cb.is_string_like(label):\n",
      "/cellar/users/samsonfong/bin/anaconda3/envs/nbgwas2/lib/python3.6/site-packages/networkx/drawing/nx_pylab.py:138: MatplotlibDeprecationWarning: pyplot.hold is deprecated.\n",
      "    Future behavior will be consistent with the long-time default:\n",
      "    plot commands add elements without first clearing the\n",
      "    Axes and/or Figure.\n",
      "  plt.hold(b)\n",
      "/cellar/users/samsonfong/bin/anaconda3/envs/nbgwas2/lib/python3.6/site-packages/matplotlib-2.2.3-py3.6-linux-x86_64.egg/matplotlib/__init__.py:910: MatplotlibDeprecationWarning: axes.hold is deprecated. Please remove it from your matplotlibrc and/or style files.\n",
      "  mplDeprecation)\n",
      "/cellar/users/samsonfong/bin/anaconda3/envs/nbgwas2/lib/python3.6/site-packages/matplotlib-2.2.3-py3.6-linux-x86_64.egg/matplotlib/rcsetup.py:156: MatplotlibDeprecationWarning: axes.hold is deprecated, will be removed in 3.0\n",
      "  mplDeprecation)\n"
     ]
    },
    {
     "data": {
      "text/plain": [
       "(<Figure size 432x288 with 2 Axes>,\n",
       " <matplotlib.axes._subplots.AxesSubplot at 0x7f2f0f60d400>)"
      ]
     },
     "execution_count": 21,
     "metadata": {},
     "output_type": "execute_result"
    },
    {
     "data": {
      "image/png": "[encoded data removed]",
      "text/plain": [
       "<Figure size 432x288 with 2 Axes>"
      ]
     },
     "metadata": {},
     "output_type": "display_data"
    }
   ],
   "source": [
    "g.network.local_neighborhood(center_name='PGBD1', neighbors=1).view(attributes='Diffused (Binarize)', vmin=0, vmax=1)"
   ]
  },
  {
   "cell_type": "markdown",
   "metadata": {},
   "source": [
    "# Evaluating Performance"
   ]
  },
  {
   "cell_type": "code",
   "execution_count": 22,
   "metadata": {},
   "outputs": [],
   "source": [
    "with open('../../nbgwas_analysis/data/gold_standards/SZ_hugo_genes_only.txt') as f: \n",
    "    gold_standard = [i.strip() for i in f.readlines()]"
   ]
  },
  {
   "cell_type": "code",
   "execution_count": 23,
   "metadata": {},
   "outputs": [
    {
     "data": {
      "text/html": [
       "<div>\n",
       "<style scoped>\n",
       "    .dataframe tbody tr th:only-of-type {\n",
       "        vertical-align: middle;\n",
       "    }\n",
       "\n",
       "    .dataframe tbody tr th {\n",
       "        vertical-align: top;\n",
       "    }\n",
       "\n",
       "    .dataframe thead th {\n",
       "        text-align: right;\n",
       "    }\n",
       "</style>\n",
       "<table border=\"1\" class=\"dataframe\">\n",
       "  <thead>\n",
       "    <tr style=\"text-align: right;\">\n",
       "      <th></th>\n",
       "      <th>Gene</th>\n",
       "      <th>Chr</th>\n",
       "      <th>Gene Start</th>\n",
       "      <th>Gene End</th>\n",
       "      <th>nSNPs</th>\n",
       "      <th>TopSNP</th>\n",
       "      <th>TopSNP Pos</th>\n",
       "      <th>TopSNP P-Value</th>\n",
       "      <th>SNP Distance</th>\n",
       "      <th>Binarized Heat</th>\n",
       "      <th>Negative Log</th>\n",
       "    </tr>\n",
       "  </thead>\n",
       "  <tbody>\n",
       "    <tr>\n",
       "      <th>5905</th>\n",
       "      <td>HIST1H4K</td>\n",
       "      <td>6</td>\n",
       "      <td>27906930</td>\n",
       "      <td>27907284</td>\n",
       "      <td>8</td>\n",
       "      <td>rs34706883</td>\n",
       "      <td>27913234.0</td>\n",
       "      <td>5.071180e-10</td>\n",
       "      <td>6304.0</td>\n",
       "      <td>1.0</td>\n",
       "      <td>21.402277</td>\n",
       "    </tr>\n",
       "    <tr>\n",
       "      <th>5867</th>\n",
       "      <td>HIST1H2AK</td>\n",
       "      <td>6</td>\n",
       "      <td>27913636</td>\n",
       "      <td>27914096</td>\n",
       "      <td>16</td>\n",
       "      <td>rs34706883</td>\n",
       "      <td>27913234.0</td>\n",
       "      <td>5.071180e-10</td>\n",
       "      <td>402.0</td>\n",
       "      <td>1.0</td>\n",
       "      <td>21.402277</td>\n",
       "    </tr>\n",
       "    <tr>\n",
       "      <th>5883</th>\n",
       "      <td>HIST1H2BN</td>\n",
       "      <td>6</td>\n",
       "      <td>27914418</td>\n",
       "      <td>27914867</td>\n",
       "      <td>17</td>\n",
       "      <td>rs34706883</td>\n",
       "      <td>27913234.0</td>\n",
       "      <td>5.071180e-10</td>\n",
       "      <td>1184.0</td>\n",
       "      <td>1.0</td>\n",
       "      <td>21.402277</td>\n",
       "    </tr>\n",
       "    <tr>\n",
       "      <th>5893</th>\n",
       "      <td>HIST1H3I</td>\n",
       "      <td>6</td>\n",
       "      <td>27947601</td>\n",
       "      <td>27948078</td>\n",
       "      <td>10</td>\n",
       "      <td>rs13199772</td>\n",
       "      <td>27942064.0</td>\n",
       "      <td>7.053790e-10</td>\n",
       "      <td>5537.0</td>\n",
       "      <td>1.0</td>\n",
       "      <td>21.072286</td>\n",
       "    </tr>\n",
       "    <tr>\n",
       "      <th>5906</th>\n",
       "      <td>HIST1H4L</td>\n",
       "      <td>6</td>\n",
       "      <td>27948904</td>\n",
       "      <td>27949268</td>\n",
       "      <td>10</td>\n",
       "      <td>rs13199772</td>\n",
       "      <td>27942064.0</td>\n",
       "      <td>7.053790e-10</td>\n",
       "      <td>6840.0</td>\n",
       "      <td>1.0</td>\n",
       "      <td>21.072286</td>\n",
       "    </tr>\n",
       "  </tbody>\n",
       "</table>\n",
       "</div>"
      ],
      "text/plain": [
       "           Gene  Chr  Gene Start  Gene End  nSNPs      TopSNP  TopSNP Pos  \\\n",
       "5905   HIST1H4K    6    27906930  27907284      8  rs34706883  27913234.0   \n",
       "5867  HIST1H2AK    6    27913636  27914096     16  rs34706883  27913234.0   \n",
       "5883  HIST1H2BN    6    27914418  27914867     17  rs34706883  27913234.0   \n",
       "5893   HIST1H3I    6    27947601  27948078     10  rs13199772  27942064.0   \n",
       "5906   HIST1H4L    6    27948904  27949268     10  rs13199772  27942064.0   \n",
       "\n",
       "      TopSNP P-Value  SNP Distance  Binarized Heat  Negative Log  \n",
       "5905    5.071180e-10        6304.0             1.0     21.402277  \n",
       "5867    5.071180e-10         402.0             1.0     21.402277  \n",
       "5883    5.071180e-10        1184.0             1.0     21.402277  \n",
       "5893    7.053790e-10        5537.0             1.0     21.072286  \n",
       "5906    7.053790e-10        6840.0             1.0     21.072286  "
      ]
     },
     "execution_count": 23,
     "metadata": {},
     "output_type": "execute_result"
    }
   ],
   "source": [
    "g.genes.table.head()"
   ]
  },
  {
   "cell_type": "code",
   "execution_count": 24,
   "metadata": {},
   "outputs": [
    {
     "data": {
      "text/plain": [
       "<nbgwas.nbgwas.Nbgwas at 0x7f304b8a2080>"
      ]
     },
     "execution_count": 24,
     "metadata": {},
     "output_type": "execute_result"
    }
   ],
   "source": [
    "g.map_to_gene_table(['Diffused (Binarized)'])"
   ]
  },
  {
   "cell_type": "code",
   "execution_count": 27,
   "metadata": {},
   "outputs": [
    {
     "data": {
      "text/html": [
       "<div>\n",
       "<style scoped>\n",
       "    .dataframe tbody tr th:only-of-type {\n",
       "        vertical-align: middle;\n",
       "    }\n",
       "\n",
       "    .dataframe tbody tr th {\n",
       "        vertical-align: top;\n",
       "    }\n",
       "\n",
       "    .dataframe thead th {\n",
       "        text-align: right;\n",
       "    }\n",
       "</style>\n",
       "<table border=\"1\" class=\"dataframe\">\n",
       "  <thead>\n",
       "    <tr style=\"text-align: right;\">\n",
       "      <th></th>\n",
       "      <th>Gene</th>\n",
       "      <th>Chr</th>\n",
       "      <th>Gene Start</th>\n",
       "      <th>Gene End</th>\n",
       "      <th>nSNPs</th>\n",
       "      <th>TopSNP</th>\n",
       "      <th>TopSNP Pos</th>\n",
       "      <th>TopSNP P-Value</th>\n",
       "      <th>SNP Distance</th>\n",
       "      <th>Binarized Heat</th>\n",
       "      <th>Negative Log</th>\n",
       "      <th>Binarized Heat</th>\n",
       "      <th>Negative Log</th>\n",
       "      <th>Diffused (Binarized)</th>\n",
       "      <th>Diffused (Log)</th>\n",
       "      <th>Diffused (Heat, Log)</th>\n",
       "      <th>Diffused (Heat, Binarize)</th>\n",
       "    </tr>\n",
       "  </thead>\n",
       "  <tbody>\n",
       "    <tr>\n",
       "      <th>5905</th>\n",
       "      <td>HIST1H4K</td>\n",
       "      <td>6</td>\n",
       "      <td>27906930</td>\n",
       "      <td>27907284</td>\n",
       "      <td>8</td>\n",
       "      <td>rs34706883</td>\n",
       "      <td>27913234.0</td>\n",
       "      <td>5.071180e-10</td>\n",
       "      <td>6304.0</td>\n",
       "      <td>1.0</td>\n",
       "      <td>21.402277</td>\n",
       "      <td>0.0</td>\n",
       "      <td>0.0</td>\n",
       "      <td>0.0</td>\n",
       "      <td>0.0</td>\n",
       "      <td>0.0</td>\n",
       "      <td>0.0</td>\n",
       "    </tr>\n",
       "    <tr>\n",
       "      <th>5867</th>\n",
       "      <td>HIST1H2AK</td>\n",
       "      <td>6</td>\n",
       "      <td>27913636</td>\n",
       "      <td>27914096</td>\n",
       "      <td>16</td>\n",
       "      <td>rs34706883</td>\n",
       "      <td>27913234.0</td>\n",
       "      <td>5.071180e-10</td>\n",
       "      <td>402.0</td>\n",
       "      <td>1.0</td>\n",
       "      <td>21.402277</td>\n",
       "      <td>0.0</td>\n",
       "      <td>0.0</td>\n",
       "      <td>0.0</td>\n",
       "      <td>0.0</td>\n",
       "      <td>0.0</td>\n",
       "      <td>0.0</td>\n",
       "    </tr>\n",
       "    <tr>\n",
       "      <th>5883</th>\n",
       "      <td>HIST1H2BN</td>\n",
       "      <td>6</td>\n",
       "      <td>27914418</td>\n",
       "      <td>27914867</td>\n",
       "      <td>17</td>\n",
       "      <td>rs34706883</td>\n",
       "      <td>27913234.0</td>\n",
       "      <td>5.071180e-10</td>\n",
       "      <td>1184.0</td>\n",
       "      <td>1.0</td>\n",
       "      <td>21.402277</td>\n",
       "      <td>0.0</td>\n",
       "      <td>0.0</td>\n",
       "      <td>0.0</td>\n",
       "      <td>0.0</td>\n",
       "      <td>0.0</td>\n",
       "      <td>0.0</td>\n",
       "    </tr>\n",
       "    <tr>\n",
       "      <th>5893</th>\n",
       "      <td>HIST1H3I</td>\n",
       "      <td>6</td>\n",
       "      <td>27947601</td>\n",
       "      <td>27948078</td>\n",
       "      <td>10</td>\n",
       "      <td>rs13199772</td>\n",
       "      <td>27942064.0</td>\n",
       "      <td>7.053790e-10</td>\n",
       "      <td>5537.0</td>\n",
       "      <td>1.0</td>\n",
       "      <td>21.072286</td>\n",
       "      <td>0.0</td>\n",
       "      <td>0.0</td>\n",
       "      <td>0.0</td>\n",
       "      <td>0.0</td>\n",
       "      <td>0.0</td>\n",
       "      <td>0.0</td>\n",
       "    </tr>\n",
       "    <tr>\n",
       "      <th>5906</th>\n",
       "      <td>HIST1H4L</td>\n",
       "      <td>6</td>\n",
       "      <td>27948904</td>\n",
       "      <td>27949268</td>\n",
       "      <td>10</td>\n",
       "      <td>rs13199772</td>\n",
       "      <td>27942064.0</td>\n",
       "      <td>7.053790e-10</td>\n",
       "      <td>6840.0</td>\n",
       "      <td>1.0</td>\n",
       "      <td>21.072286</td>\n",
       "      <td>0.0</td>\n",
       "      <td>0.0</td>\n",
       "      <td>0.0</td>\n",
       "      <td>0.0</td>\n",
       "      <td>0.0</td>\n",
       "      <td>0.0</td>\n",
       "    </tr>\n",
       "  </tbody>\n",
       "</table>\n",
       "</div>"
      ],
      "text/plain": [
       "           Gene  Chr  Gene Start  Gene End  nSNPs      TopSNP  TopSNP Pos  \\\n",
       "5905   HIST1H4K    6    27906930  27907284      8  rs34706883  27913234.0   \n",
       "5867  HIST1H2AK    6    27913636  27914096     16  rs34706883  27913234.0   \n",
       "5883  HIST1H2BN    6    27914418  27914867     17  rs34706883  27913234.0   \n",
       "5893   HIST1H3I    6    27947601  27948078     10  rs13199772  27942064.0   \n",
       "5906   HIST1H4L    6    27948904  27949268     10  rs13199772  27942064.0   \n",
       "\n",
       "      TopSNP P-Value  SNP Distance  Binarized Heat  Negative Log  \\\n",
       "5905    5.071180e-10        6304.0             1.0     21.402277   \n",
       "5867    5.071180e-10         402.0             1.0     21.402277   \n",
       "5883    5.071180e-10        1184.0             1.0     21.402277   \n",
       "5893    7.053790e-10        5537.0             1.0     21.072286   \n",
       "5906    7.053790e-10        6840.0             1.0     21.072286   \n",
       "\n",
       "      Binarized Heat  Negative Log  Diffused (Binarized)  Diffused (Log)  \\\n",
       "5905             0.0           0.0                   0.0             0.0   \n",
       "5867             0.0           0.0                   0.0             0.0   \n",
       "5883             0.0           0.0                   0.0             0.0   \n",
       "5893             0.0           0.0                   0.0             0.0   \n",
       "5906             0.0           0.0                   0.0             0.0   \n",
       "\n",
       "      Diffused (Heat, Log)  Diffused (Heat, Binarize)  \n",
       "5905                   0.0                        0.0  \n",
       "5867                   0.0                        0.0  \n",
       "5883                   0.0                        0.0  \n",
       "5893                   0.0                        0.0  \n",
       "5906                   0.0                        0.0  "
      ]
     },
     "execution_count": 27,
     "metadata": {},
     "output_type": "execute_result"
    }
   ],
   "source": [
    "g.genes.table.head()"
   ]
  },
  {
   "cell_type": "code",
   "execution_count": 29,
   "metadata": {},
   "outputs": [
    {
     "data": {
      "text/plain": [
       "Hypergeom(pvalue=0.5147966063043954, n_intersect=5, common_items={'FGFBP1', 'EIF2B3', 'PIP5K1C', 'PTEN', 'NEFL'})"
      ]
     },
     "execution_count": 29,
     "metadata": {},
     "output_type": "execute_result"
    }
   ],
   "source": [
    "g.hypergeom(gold_standard, 'Diffused (Log)')"
   ]
  }
 ],
 "metadata": {
  "kernelspec": {
   "display_name": "Python (nbgwas2)",
   "language": "python",
   "name": "nbgwas2"
  },
  "language_info": {
   "codemirror_mode": {
    "name": "ipython",
    "version": 3
   },
   "file_extension": ".py",
   "mimetype": "text/x-python",
   "name": "python",
   "nbconvert_exporter": "python",
   "pygments_lexer": "ipython3",
   "version": "3.6.6"
  }
 },
 "nbformat": 4,
 "nbformat_minor": 2
}
